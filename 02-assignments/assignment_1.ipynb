{
 "cells": [
  {
   "cell_type": "markdown",
   "metadata": {},
   "source": [
    "# Coding Problems\n",
    "\n",
    "## Objective\n",
    "\n",
    "This assignment aims to demonstrate how to study a data structures or algorithms question in depth to prepare for an industry coding interview. Leetcode is a popular coding practice site that many use to practice for technical interviews. Like behavioral interviews, it's important to practice and keep your skills sharp.\n",
    "\n",
    "## Group Size\n",
    "\n",
    "Please complete this individually.\n",
    "\n",
    "## Part 1:\n",
    "\n",
    "_*You will be assigned one of three problems based of your first name. Execute the code below, and that will tell you your assigned problem. Include the output as part of your submission (do not clear the output). The problems are based-off problems from Leetcode.*_\n"
   ]
  },
  {
   "cell_type": "code",
   "execution_count": null,
   "metadata": {},
   "outputs": [],
   "source": [
    "print((hash('your first name') % 3) + 1)"
   ]
  },
  {
   "cell_type": "markdown",
   "metadata": {},
   "source": [
    "<details>\n",
    "  <summary>Question 1</summary>\n",
    "\n",
    "  # Question One: Check Duplicates in Tree\n",
    "\n",
    "  Given the `root` of a binary tree, check whether it is contains a duplicate value. If a duplicate exists, return the duplicate value. If there are multiple duplicates, return the one with the closest distance to the root. If no duplicate exists, return -1.\n",
    "\n",
    "  ## Examples\n",
    "\n",
    "  ### Example 1\n",
    "\n",
    "  ![](images/q1_ex1.png \"Example 1\")\n",
    "\n",
    "  Input: `root = [1, 2, 2, 3, 5, 6, 7]` *What traversal method is this?*\n",
    "\n",
    "  Output: 2\n",
    "\n",
    "  ### Example 2\n",
    "\n",
    "  ![](images/q1_ex2.png \"Example 2\")\n",
    "\n",
    "  Input: `root = [1, 10, 2, 3, 10, 12, 12]`\n",
    "\n",
    "  Output: 10\n",
    "\n",
    "  ### Example 3\n",
    "\n",
    "  ![](images/q1_ex3.png \"Example 3\")\n",
    "\n",
    "  Input: `root = [10, 9, 8, 7]`\n",
    "\n",
    "  Output: -1\n",
    "\n",
    "</details>\n",
    "\n",
    "#### Starter Code for Question 1"
   ]
  },
  {
   "cell_type": "code",
   "execution_count": null,
   "metadata": {},
   "outputs": [],
   "source": [
    "# Definition for a binary tree node.\n",
    "# class TreeNode(object):\n",
    "#     def __init__(self, val = 0, left = None, right = None):\n",
    "#         self.val = val\n",
    "#         self.left = left\n",
    "#         self.right = right\n",
    "def is_symmetric(root: TreeNode) -> int:\n",
    "  # TODO"
   ]
  },
  {
   "cell_type": "markdown",
   "metadata": {},
   "source": [
    "<details>\n",
    "  <summary>Question 2</summary>\n",
    "\n",
    "  # Question Two: Path to Leaves\n",
    "\n",
    "  Given the `root` of a binary tree, return all root to leaf paths in any order.\n",
    "\n",
    "  ## Examples\n",
    "\n",
    "  ### Example 1\n",
    "\n",
    "  ![](images/q1_ex1.png \"Example 1\")\n",
    "\n",
    "  Input: `root = [1, 2, 2, 3, 5, 6, 7]` *What traversal method is this?*\n",
    "\n",
    "  Output: [[1, 2, 3], [1, 2, 5], [1, 2, 6], [1, 2, 7]]\n",
    "\n",
    "  ### Example 2\n",
    "\n",
    "  ![](images/q1_ex3.png \"Example 2\")\n",
    "\n",
    "  Input: `root = [10, 9, 8, 7]`\n",
    "\n",
    "  Output: [[10, 7], [10, 9, 8]]\n",
    "\n",
    "</details>\n",
    "\n",
    "#### Starter Code for Question 2"
   ]
  },
  {
   "cell_type": "code",
   "execution_count": null,
   "metadata": {},
   "outputs": [],
   "source": [
    "# Definition for a binary tree node.\n",
    "# class TreeNode(object):\n",
    "#     def __init__(self, val = 0, left = None, right = None):\n",
    "#         self.val = val\n",
    "#         self.left = left\n",
    "#         self.right = right\n",
    "def bt_path(root: TreeNode) -> List[List[int]]:\n",
    "  # TODO"
   ]
  },
  {
   "cell_type": "markdown",
   "metadata": {},
   "source": [
    "<details>\n",
    "  <summary>Question 3</summary>\n",
    "\n",
    "  # Question Three: Missing Number in Range\n",
    " \n",
    "  You are given a list containing `n` integers in the range `[0, n]`. Return a list of numbes that are missing from the range `[0, n]` of the array. If there is no missing number, return -1. Note, all the integers in the list may not be unique.\n",
    "  \n",
    "  ## Examples\n",
    "\n",
    "  ### Example 1\n",
    "\n",
    "  Input: `lst = [0, 2]`\n",
    "\n",
    "  Output: [1]\n",
    "\n",
    "  ### Example 2\n",
    "\n",
    "  Input: `lst = [5, 0, 1]`\n",
    "\n",
    "  Output: [2, 3, 4]\n",
    "\n",
    "  ### Example 3\n",
    "\n",
    "  Input: `lst = [6, 8, 2, 3, 5, 7, 0, 1, 10]`\n",
    "\n",
    "  Output: [4, 9]\n",
    "\n",
    "</details>\n",
    "\n",
    "#### Starter Code for Question 3\n"
   ]
  },
  {
   "cell_type": "code",
   "execution_count": null,
   "metadata": {},
   "outputs": [],
   "source": [
    "def missing_num(nums: List) -> int:\n",
    "  # TODO"
   ]
  },
  {
   "cell_type": "markdown",
   "metadata": {},
   "source": [
    "\n",
    "## Part 2:\n",
    "\n",
    "-   Paraphrase the problem in your own words\n"
   ]
  },
  {
   "cell_type": "code",
   "execution_count": null,
   "metadata": {},
   "outputs": [],
   "source": [
    "# Your answer here"
   ]
  },
  {
   "cell_type": "markdown",
   "metadata": {},
   "source": [
    "\n",
    "-   In the .md file containing your problem, there are examples that illustrate how the code should work. Create 2 new examples that demonstrate you understand the problem.\n"
   ]
  },
  {
   "cell_type": "code",
   "execution_count": null,
   "metadata": {},
   "outputs": [],
   "source": [
    "# Your answer here"
   ]
  },
  {
   "cell_type": "markdown",
   "metadata": {},
   "source": [
    "\n",
    "-   Code the solution to your assigned problem in Python (code chunk). Try to find the best time and space complexity solution!\n"
   ]
  },
  {
   "cell_type": "code",
   "execution_count": null,
   "metadata": {},
   "outputs": [],
   "source": [
    "# Your answer here"
   ]
  },
  {
   "cell_type": "markdown",
   "metadata": {},
   "source": [
    "\n",
    "-   Explain why your solution works\n"
   ]
  },
  {
   "cell_type": "code",
   "execution_count": null,
   "metadata": {},
   "outputs": [],
   "source": [
    "# Your answer here"
   ]
  },
  {
   "cell_type": "markdown",
   "metadata": {},
   "source": [
    "\n",
    "-   Explain the problem’s and space complexity\n"
   ]
  },
  {
   "cell_type": "code",
   "execution_count": null,
   "metadata": {},
   "outputs": [],
   "source": [
    "# Your answer here"
   ]
  },
  {
   "cell_type": "markdown",
   "metadata": {},
   "source": [
    "\n",
    "-   Explain the thinking to an alternative solution (no coding required, but a classmate reading this should be able to code it up based off your text)\n"
   ]
  },
  {
   "cell_type": "code",
   "execution_count": null,
   "metadata": {},
   "outputs": [],
   "source": [
    "# Your answer here"
   ]
  },
  {
   "cell_type": "markdown",
   "metadata": {},
   "source": [
    "## Submission Requirements\n",
    "\n",
    "Create and submit a public GitHub repository with the following:\n",
    "\n",
    "-   The PDF of the problem you have solved\n",
    "\n",
    "## Evaluation Criteria\n",
    "\n",
    "-   Problem is accurately stated in the student’s own words\n",
    "\n",
    "-   Two examples are correct and easily understandable\n",
    "\n",
    "-   Correctness, time, and space complexity of the coding solution\n",
    "\n",
    "-   Clarity in explaining why the solution works, its time and space complexity\n",
    "\n",
    "-   Clarity in the proposal to the alternative solution\n",
    "\n",
    "## Submission Deadline\n",
    "TBD\n"
   ]
  }
 ],
 "metadata": {
  "kernelspec": {
   "display_name": "Python 3",
   "language": "python",
   "name": "python3"
  },
  "language_info": {
   "codemirror_mode": {
    "name": "ipython",
    "version": 3
   },
   "file_extension": ".py",
   "mimetype": "text/x-python",
   "name": "python",
   "nbconvert_exporter": "python",
   "pygments_lexer": "ipython3",
   "version": "3.11.7"
  }
 },
 "nbformat": 4,
 "nbformat_minor": 2
}
