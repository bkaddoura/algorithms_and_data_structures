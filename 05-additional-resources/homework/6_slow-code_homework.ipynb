{
  "cells": [
    {
      "cell_type": "markdown",
      "id": "55954002",
      "metadata": {},
      "source": [
        "# 6: Slow Code\n",
        "\n",
        "-   Bhargava: Chapter 8 exercises\n",
        "    -   8.1 - 8.8\n"
      ]
    },
    {
      "cell_type": "code",
      "execution_count": null,
      "id": "8643da00",
      "metadata": {},
      "outputs": [],
      "source": [
        "# Your code here"
      ]
    },
    {
      "cell_type": "markdown",
      "id": "4a726575",
      "metadata": {},
      "source": [
        "\n",
        "-   Vectorize the second code chunk in the Parallelization section of the lesson 6 slides\n"
      ]
    },
    {
      "cell_type": "code",
      "execution_count": null,
      "id": "286b4a12",
      "metadata": {},
      "outputs": [],
      "source": [
        "# Your code here"
      ]
    },
    {
      "cell_type": "markdown",
      "id": "6e608f44",
      "metadata": {},
      "source": [
        "\n",
        "-   [Find the longest palindrome from a string](https://leetcode.com/problems/longest-palindrome/) Hint: use a greedy alogrithm\n"
      ]
    },
    {
      "cell_type": "code",
      "execution_count": null,
      "id": "48666b82",
      "metadata": {},
      "outputs": [],
      "source": [
        "# Your code here"
      ]
    },
    {
      "cell_type": "markdown",
      "id": "9a3f618a",
      "metadata": {},
      "source": [
        "\n",
        "-   [Computing Pascal’s triangle](https://leetcode.com/problems/pascals-triangle/) Hint: use dynamic programming"
      ]
    },
    {
      "cell_type": "code",
      "execution_count": null,
      "id": "bb5fb8be",
      "metadata": {},
      "outputs": [],
      "source": [
        "# Your code here"
      ]
    }
  ],
  "metadata": {
    "kernelspec": {
      "display_name": "Python 3",
      "language": "python",
      "name": "python3"
    }
  },
  "nbformat": 4,
  "nbformat_minor": 5
}
