{
 "cells": [
  {
   "cell_type": "code",
   "execution_count": 3,
   "metadata": {},
   "outputs": [
    {
     "name": "stdout",
     "output_type": "stream",
     "text": [
      "3\n"
     ]
    }
   ],
   "source": [
    "print((hash('bashier')%3)+1)"
   ]
  },
  {
   "cell_type": "markdown",
   "metadata": {},
   "source": [
    "# Question Three: Missing Number in Range\n",
    " \n",
    "You are given a list containing `n` integers in the range `[0, n]`. Return a list of numbes that are missing from the range `[0, n]` of the array. If there is no missing number, return -1. Note, all the integers in the list may not be unique.\n",
    " \n",
    "## Examples\n",
    "\n",
    "### Example 1\n",
    "\n",
    "Input: `lst = [0, 2]`\n",
    "\n",
    "Output: [1]\n",
    "\n",
    "### Example 2\n",
    "\n",
    "Input: `lst = [5, 0, 1]`\n",
    "\n",
    "Output: [2, 3, 4]\n",
    "\n",
    "### Example 3\n",
    "\n",
    "Input: `lst = [6, 8, 2, 3, 5, 7, 0, 1, 10]`\n",
    "\n",
    "Output: [4, 9]"
   ]
  },
  {
   "cell_type": "code",
   "execution_count": 1,
   "metadata": {},
   "outputs": [],
   "source": [
    "# To be able to annotate what types your list \n",
    "# should accept, you need to use typing.List\n",
    "from typing import List"
   ]
  },
  {
   "cell_type": "code",
   "execution_count": 17,
   "metadata": {},
   "outputs": [],
   "source": [
    "def findLargest(nums: List):\n",
    "    largest = nums[0]\n",
    "    for i in range(1, len(nums)):\n",
    "        if nums[i] > largest:\n",
    "            largest = nums[i]\n",
    "    return largest"
   ]
  },
  {
   "cell_type": "code",
   "execution_count": 30,
   "metadata": {},
   "outputs": [],
   "source": [
    "# Time complexity O(n^2) due to nested for-loop\n",
    "# Space complexity O(n^2) due to the nested for-loop\n",
    "\n",
    "def missing_num(nums: List) -> int:  \n",
    "      \n",
    "    # starting with highest number, go through list searching for missing values that \n",
    "    # breaks sequence\n",
    "    \n",
    "      # find highest number\n",
    "    tracking = findLargest(nums)\n",
    "\n",
    "    missing_nums = 0\n",
    "    print(f\"largest number\", tracking)\n",
    "    \n",
    "    if tracking == 0:\n",
    "        return print(\"-1\")\n",
    "    \n",
    "    for i in range(tracking):   \n",
    "        \n",
    "        temp = tracking\n",
    "        if tracking <= 0:\n",
    "            return    \n",
    "\n",
    "        for j in range(len(nums)):\n",
    "                   \n",
    "            if nums[j] == tracking -1 :\n",
    "                tracking -= 1        \n",
    "        \n",
    "        if temp == tracking:            \n",
    "            print(\"missing: \", (tracking - 1))\n",
    "            missing_nums += 1\n",
    "            tracking -= 1\n",
    "\n",
    "    if missing_nums == 0:\n",
    "        return print(\"-1\")"
   ]
  },
  {
   "cell_type": "code",
   "execution_count": 31,
   "metadata": {},
   "outputs": [
    {
     "name": "stdout",
     "output_type": "stream",
     "text": [
      "largest number 2\n",
      "missing:  1\n",
      "None\n"
     ]
    }
   ],
   "source": [
    "# test case 1\n",
    "\n",
    "lst1 = [0, 2]\n",
    "print(missing_num(lst1))"
   ]
  },
  {
   "cell_type": "code",
   "execution_count": 32,
   "metadata": {},
   "outputs": [
    {
     "name": "stdout",
     "output_type": "stream",
     "text": [
      "largest number 5\n",
      "missing:  4\n",
      "missing:  3\n",
      "missing:  2\n",
      "None\n"
     ]
    }
   ],
   "source": [
    "# test case 2\n",
    "\n",
    "lst2 = [5, 0, 1]\n",
    "print(missing_num(lst2))"
   ]
  },
  {
   "cell_type": "code",
   "execution_count": 26,
   "metadata": {},
   "outputs": [
    {
     "name": "stdout",
     "output_type": "stream",
     "text": [
      "largest number 10\n",
      "8\n"
     ]
    }
   ],
   "source": [
    "# test case 3\n",
    "\n",
    "lst3 = [6, 8, 2, 3, 5, 7, 0, 1, 10]\n",
    "print(missing_num(lst3))"
   ]
  },
  {
   "cell_type": "code",
   "execution_count": 22,
   "metadata": {},
   "outputs": [
    {
     "name": "stdout",
     "output_type": "stream",
     "text": [
      "largest number 10\n",
      "-1\n",
      "None\n"
     ]
    }
   ],
   "source": [
    "# test case 4\n",
    "\n",
    "lst4 = [0, 1, 2, 3, 4, 5, 6, 7, 8, 9, 10]\n",
    "print(missing_num(lst4))"
   ]
  },
  {
   "cell_type": "code",
   "execution_count": 33,
   "metadata": {},
   "outputs": [
    {
     "name": "stdout",
     "output_type": "stream",
     "text": [
      "largest number 18\n",
      "missing:  17\n",
      "missing:  15\n",
      "missing:  14\n",
      "missing:  12\n",
      "missing:  8\n",
      "missing:  6\n",
      "missing:  3\n",
      "missing:  1\n",
      "missing:  0\n",
      "None\n"
     ]
    }
   ],
   "source": [
    "# test case 5\n",
    "\n",
    "lst5 = [10, 11, 2, 13, 4, 5, 16, 7, 18, 9, 10]\n",
    "print(missing_num(lst5))"
   ]
  }
 ],
 "metadata": {
  "kernelspec": {
   "display_name": "envads",
   "language": "python",
   "name": "python3"
  },
  "language_info": {
   "codemirror_mode": {
    "name": "ipython",
    "version": 3
   },
   "file_extension": ".py",
   "mimetype": "text/x-python",
   "name": "python",
   "nbconvert_exporter": "python",
   "pygments_lexer": "ipython3",
   "version": "3.11.8"
  }
 },
 "nbformat": 4,
 "nbformat_minor": 2
}
