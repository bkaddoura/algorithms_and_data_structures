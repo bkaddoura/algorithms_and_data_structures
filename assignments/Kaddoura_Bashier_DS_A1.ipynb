{
 "cells": [
  {
   "cell_type": "code",
   "execution_count": 3,
   "metadata": {},
   "outputs": [
    {
     "name": "stdout",
     "output_type": "stream",
     "text": [
      "3\n"
     ]
    }
   ],
   "source": [
    "print((hash('bashier')%3)+1)"
   ]
  },
  {
   "cell_type": "markdown",
   "metadata": {},
   "source": [
    "# Question Three: Missing Number in Range\n",
    " \n",
    "You are given a list containing `n` integers in the range `[0, n]`. Return a list of numbes that are missing from the range `[0, n]` of the array. If there is no missing number, return -1. Note, all the integers in the list may not be unique.\n",
    " \n",
    "## Examples\n",
    "\n",
    "### Example 1\n",
    "\n",
    "Input: `lst = [0, 2]`\n",
    "\n",
    "Output: [1]\n",
    "\n",
    "### Example 2\n",
    "\n",
    "Input: `lst = [5, 0, 1]`\n",
    "\n",
    "Output: [2, 3, 4]\n",
    "\n",
    "### Example 3\n",
    "\n",
    "Input: `lst = [6, 8, 2, 3, 5, 7, 0, 1, 10]`\n",
    "\n",
    "Output: [4, 9]"
   ]
  },
  {
   "cell_type": "code",
   "execution_count": 146,
   "metadata": {},
   "outputs": [],
   "source": [
    "# To be able to annotate what types your list \n",
    "# should accept, you need to use typing.List\n",
    "from typing import List"
   ]
  },
  {
   "cell_type": "code",
   "execution_count": 94,
   "metadata": {},
   "outputs": [],
   "source": [
    "# Starter Code\n",
    " \n",
    "def missing_num(nums: List) -> int:\n",
    "\n",
    "    # base case\n",
    "    # if no missing numbers, return -1\n",
    "    # if len(nums) == 0:\n",
    "    #     return -1\n",
    "    # if no missing numbers\n",
    "\n",
    "    # find highest number\n",
    "    highest = 0\n",
    "    for i in range(len(nums)):\n",
    "\n",
    "        if highest <= nums[i]:\n",
    "            highest = nums[i]\n",
    "\n",
    "    for j in range(len(nums)):\n",
    "        if num[j] == (highest - 1)\n",
    "        \n",
    "        if \n",
    "\n",
    "    return print(\"highest: \", highest)\n"
   ]
  },
  {
   "cell_type": "code",
   "execution_count": 166,
   "metadata": {},
   "outputs": [],
   "source": [
    "def findLargest(nums: List):\n",
    "    largest = nums[0]\n",
    "    largest_index = 0\n",
    "    for i in range(1, len(nums)):\n",
    "        if nums[i] > largest:\n",
    "            largest = nums[i]\n",
    "            largest_index = i\n",
    "    return largest_index"
   ]
  },
  {
   "cell_type": "code",
   "execution_count": 167,
   "metadata": {},
   "outputs": [],
   "source": [
    "def selectionSort(nums: List):\n",
    "    newArr = []\n",
    "    for i in range(len(nums)):\n",
    "        largest = findLargest(nums)\n",
    "        newArr.append(nums.pop(largest))\n",
    "    return newArr"
   ]
  },
  {
   "cell_type": "code",
   "execution_count": 168,
   "metadata": {},
   "outputs": [],
   "source": [
    "def missing_num(nums: List) -> int:\n",
    "    newArr = selectionSort(nums)\n",
    "    returnArr = []\n",
    "    for i in range(len(newArr)):\n",
    "        if newArr[i] == 0:\n",
    "            return\n",
    "        if newArr[i] == (newArr[i + 1 ] - 1):\n",
    "            return\n",
    "        else:\n",
    "            return print(\"missing: \", (newArr[i] - 1))\n"
   ]
  },
  {
   "cell_type": "code",
   "execution_count": 169,
   "metadata": {},
   "outputs": [
    {
     "name": "stdout",
     "output_type": "stream",
     "text": [
      "missing:  1\n",
      "None\n"
     ]
    }
   ],
   "source": [
    "# test case 1\n",
    "\n",
    "lst1 = [0, 2]\n",
    "print(missing_num(lst1))"
   ]
  },
  {
   "cell_type": "code",
   "execution_count": 170,
   "metadata": {},
   "outputs": [
    {
     "name": "stdout",
     "output_type": "stream",
     "text": [
      "missing:  4\n",
      "None\n"
     ]
    }
   ],
   "source": [
    "# test case 2\n",
    "\n",
    "lst2 = [5, 0, 1]\n",
    "print(missing_num(lst2))"
   ]
  },
  {
   "cell_type": "code",
   "execution_count": 171,
   "metadata": {},
   "outputs": [
    {
     "name": "stdout",
     "output_type": "stream",
     "text": [
      "missing:  9\n",
      "None\n"
     ]
    }
   ],
   "source": [
    "# test case 3\n",
    "\n",
    "lst3 = [6, 8, 2, 3, 5, 7, 0, 1, 10]\n",
    "print(missing_num(lst3))"
   ]
  }
 ],
 "metadata": {
  "kernelspec": {
   "display_name": "envads",
   "language": "python",
   "name": "python3"
  },
  "language_info": {
   "codemirror_mode": {
    "name": "ipython",
    "version": 3
   },
   "file_extension": ".py",
   "mimetype": "text/x-python",
   "name": "python",
   "nbconvert_exporter": "python",
   "pygments_lexer": "ipython3",
   "version": "3.11.8"
  }
 },
 "nbformat": 4,
 "nbformat_minor": 2
}
