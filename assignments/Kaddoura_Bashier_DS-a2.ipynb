{
  "cells": [
    {
      "cell_type": "markdown",
      "metadata": {
        "id": "MQHWWp9zqOtD"
      },
      "source": [
        "Code from Ivan"
      ]
    },
    {
      "cell_type": "code",
      "execution_count": 1,
      "metadata": {
        "id": "jJjfEyfiqOtF"
      },
      "outputs": [],
      "source": [
        "#Definition for a binary tree node.\n",
        "class TreeNode(object):\n",
        "    def __init__(self, val = 0, left = None, right = None):\n",
        "        self.val = val\n",
        "        self.left = left\n",
        "        self.right = right\n",
        "\n",
        "def duplicate(root):\n",
        "    '''Given the root of a binary tree, check whether it is contains a duplicate\n",
        "    value. If a duplicate exists, return the duplicate value. If there are\n",
        "    multiple duplicates, return the one with the closest distance to the root.\n",
        "    If no duplicate exists, return -1.'''\n",
        "    # needs to be breadth first, to find closest duplicate (if multiple exist).\n",
        "    VS = set() # value set, stores values found in nodes\n",
        "    NL = [root]# node list, stores nodes\n",
        "    index = 0 # to iterate over the list of nodes\n",
        "\n",
        "    while index < len(NL):\n",
        "        node = NL[index]\n",
        "        if node != None:\n",
        "            if node.val in VS: # Time to run this line is O(1) because we use sets.\n",
        "                return node.val # Found the duplicate!\n",
        "\n",
        "            VS.add(node.val) # Didn't find in values, so add to set of values\n",
        "            NL.append(node.left) # Breadth first.\n",
        "            NL.append(node.right) # Full horizontal row at a time\n",
        "        index += 1 # in a FIFO queue\n",
        "    return -1\n",
        "\n",
        "# Complexity of algorithm is O(n) where n is the number of nodes in the tree\n",
        "# because all nodes have to be looked at and the time complexity spent at\n",
        "# each node is O(1) as there are no n-dependent functions in the while loop.\n",
        "#\n",
        "# This is an iterative algorithm. A similar recursive algorithm is possible."
      ]
    },
    {
      "cell_type": "code",
      "execution_count": 2,
      "metadata": {
        "id": "XYisnqWQqOtG"
      },
      "outputs": [],
      "source": [
        "#TEST:\n",
        "example = TreeNode(1)\n",
        "example.left = TreeNode(2)\n",
        "assert duplicate(example) == -1\n",
        "assert duplicate(example) == -1\n",
        "example.left.left = TreeNode(3)\n",
        "example.left.right = TreeNode(4)\n",
        "assert duplicate(example) == -1\n",
        "example.right = TreeNode(2)\n",
        "assert duplicate(example) == 2\n",
        "example.right.left = TreeNode(3)\n",
        "assert duplicate(example) == 2\n",
        "example.right.val = 9\n",
        "assert duplicate(example) == 3\n",
        "example.right.right = TreeNode(9)\n",
        "assert duplicate(example) == 3"
      ]
    },
    {
      "cell_type": "markdown",
      "metadata": {
        "id": "OpS9ZsmvqOtG"
      },
      "source": [
        "## Part 2"
      ]
    },
    {
      "cell_type": "markdown",
      "metadata": {
        "id": "XtG1SSbmqOtH"
      },
      "source": [
        "Paraphrase the problem in your own words"
      ]
    },
    {
      "cell_type": "markdown",
      "metadata": {
        "id": "XqYm9uVmqOtH"
      },
      "source": [
        "* The question is asking to comb through the nodes of a binary tree and detect the first instance of a duplicate set and return that number. Otherwise return -1 if no duplicates are detected."
      ]
    },
    {
      "cell_type": "markdown",
      "metadata": {
        "id": "U75t65DDqOtH"
      },
      "source": [
        "Create 1 new example that demonstrates you understand the problem. Trace/walkthrough 1 example that your partner made and explain it."
      ]
    },
    {
      "cell_type": "markdown",
      "source": [
        "## Example"
      ],
      "metadata": {
        "id": "tT3GgnZrDHXH"
      }
    },
    {
      "cell_type": "code",
      "source": [
        "      1\n",
        "    /   \\\n",
        "  2       2\n",
        " / \\     /  \\\n",
        "3   4   3    9"
      ],
      "metadata": {
        "id": "hZaHPqqVte7C"
      },
      "execution_count": null,
      "outputs": []
    },
    {
      "cell_type": "markdown",
      "source": [
        "## Walk-Thru\n",
        "* example = TreeNode(1)\n",
        "  example.left = TreeNode(2)\n",
        "  assert duplicate(example) == -1\n",
        "Initially: The tree is setup with a root node of 1 and a root.left of value 2. No duplicates yet.\n",
        "* example.left.left = TreeNode(3)\n",
        "  example.left.right = TreeNode(4)\n",
        "  assert duplicate(example) == -1\n",
        "Step 1: Values 3 and 4 are inserted in positions root.left.left and root.left.right. No duplicate yet.\n",
        "* example.right = TreeNode(2)\n",
        "  assert duplicate(example) == 2\n",
        "Step 2: Value 2 is inserted in position root.right leaf. Duplicate output becomes 2.\n",
        "* example.right.left = TreeNode(3)\n",
        "  assert duplicate(example) == 2\n",
        "Step 3: Added a value of 3 to the position root.right.left creating another duplicate. Output remains to be 2 because it is the closest duplicate to the root node.\n",
        "* example.right.val = 9\n",
        "  assert duplicate(example) == 3\n",
        "Step 4: Replaced right node with a value of 9. Duplicate has now become 3.\n",
        "* example.right.right = TreeNode(9)\n",
        "assert duplicate(example) == 3\n",
        "Step 5: Added a new node root.right.right with a value of 9. Duplicate output remains 3."
      ],
      "metadata": {
        "id": "p-0Ni9p5y-Yb"
      }
    },
    {
      "cell_type": "markdown",
      "metadata": {
        "id": "uiaKgsHEqOtH"
      },
      "source": [
        "Copy the solution your partner wrote."
      ]
    },
    {
      "cell_type": "markdown",
      "source": [
        "* Solution posted at top of notebook"
      ],
      "metadata": {
        "id": "OJk_krDWeC8k"
      }
    },
    {
      "cell_type": "markdown",
      "metadata": {
        "id": "4oaE0ZmPqOtI"
      },
      "source": [
        "Explain why their solution works in your own words."
      ]
    },
    {
      "cell_type": "markdown",
      "source": [
        "* The solution works because it's processing the nodes using a top-down approaching which enables it to detect the first duplicate closest to the root. The code iterates through the entire tree to assess whether a pairing meet the right conditions to output as duplicates or not. The code is efficiently written and performs well."
      ],
      "metadata": {
        "id": "bYHxnu7JVxRb"
      }
    },
    {
      "cell_type": "markdown",
      "metadata": {
        "id": "InNm9ulBqOtI"
      },
      "source": [
        "Explain the problem’s time and space complexity in your own words."
      ]
    },
    {
      "cell_type": "markdown",
      "source": [
        "* The Time Complexity is O(n) because each node is processed once.\n",
        "* The Space Complexity is O(n). Trees can be balanced or unbalanced. In the scenario of an unbalanced tree, the maximum number of nodes on one branch could be n. Therefore the space complexity for storing to the list is O(n)."
      ],
      "metadata": {
        "id": "VS05h1j4UMTj"
      }
    },
    {
      "cell_type": "markdown",
      "metadata": {
        "id": "FVGzhn3FqOtI"
      },
      "source": [
        "Critique your partner's solution, including explanation, if there is anything should be adjusted."
      ]
    },
    {
      "cell_type": "markdown",
      "source": [
        "* The problem could also be addressed by using a queue instead of a list, which could provide more efficient push and pop operations compared to a list.\n",
        "* Another suggestion I would recommend is to use individual nodes when constructing the tree for more clarity. For example, instead of example.left = TreeNode(2), we could assign left_child = TreeNode(2) and then connect root.left = left_child."
      ],
      "metadata": {
        "id": "qwTrE6CtZL7T"
      }
    },
    {
      "cell_type": "markdown",
      "metadata": {
        "id": "noyFhb4hqOtJ"
      },
      "source": [
        "## Part 3"
      ]
    },
    {
      "cell_type": "markdown",
      "metadata": {
        "id": "qUZSD6TLqOtJ"
      },
      "source": [
        "Please write a 200 word reflection documenting your studying process from assignment 1, and your presentation and reviewing experience with your partner at the bottom of the Juypter Notebook under a new heading \"Reflection.\" Again, export this Notebook as pdf."
      ]
    },
    {
      "cell_type": "markdown",
      "source": [
        "## Reflections\n",
        "The code review experience was insightful. I was able to witness firsthand the process that other software developers use when breaking down a problem and understanding all its components. I have always been mystified by how these developers are able to write and review code so effortlessly, and now I see that it is a skill that can be developed through practice. In retrospect, I appreciate the value of code reviews and what another set of eyes can bring to a problem that is looked at through a single lens. Problems can be approached and solved in many ways, some more efficient than others. To speed up code deployment and communicate effectively with peers, code needs to be written simply, with clarifying variable and function names, and well-commented code."
      ],
      "metadata": {
        "id": "tcEuUJEneSO7"
      }
    }
  ],
  "metadata": {
    "kernelspec": {
      "display_name": "envads",
      "language": "python",
      "name": "python3"
    },
    "language_info": {
      "codemirror_mode": {
        "name": "ipython",
        "version": 3
      },
      "file_extension": ".py",
      "mimetype": "text/x-python",
      "name": "python",
      "nbconvert_exporter": "python",
      "pygments_lexer": "ipython3",
      "version": "3.11.8"
    },
    "colab": {
      "provenance": []
    }
  },
  "nbformat": 4,
  "nbformat_minor": 0
}