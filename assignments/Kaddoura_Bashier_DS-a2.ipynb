{
 "cells": [
  {
   "cell_type": "markdown",
   "metadata": {},
   "source": [
    "Code from Ivan"
   ]
  },
  {
   "cell_type": "code",
   "execution_count": 4,
   "metadata": {},
   "outputs": [],
   "source": [
    "#Definition for a binary tree node.\n",
    "class TreeNode(object):\n",
    "    def __init__(self, val = 0, left = None, right = None):\n",
    "        self.val = val\n",
    "        self.left = left\n",
    "        self.right = right\n",
    "\n",
    "def duplicate(root):\n",
    "    '''Given the root of a binary tree, check whether it is contains a duplicate\n",
    "    value. If a duplicate exists, return the duplicate value. If there are\n",
    "    multiple duplicates, return the one with the closest distance to the root.\n",
    "    If no duplicate exists, return -1.'''\n",
    "    # needs to be breadth first, to find closest duplicate (if multiple exist).\n",
    "    VS = set() # value set, stores values found in nodes\n",
    "    NL = [root]# node list, stores nodes\n",
    "    index = 0 # to iterate over the list of nodes \n",
    "\n",
    "    while index < len(NL):\n",
    "        node = NL[index]\n",
    "        if node != None:\n",
    "            if node.val in VS: # Time to run this line is O(1) because we use sets.\n",
    "                return node.val # Found the duplicate!    \n",
    "            \n",
    "            VS.add(node.val) # Didn't find in values, so add to set of values\n",
    "            NL.append(node.left) # Breadth first.\n",
    "            NL.append(node.right) # Full horizontal row at a time\n",
    "        index += 1 # in a FIFO queue\n",
    "    return -1\n",
    "\n",
    "# Complexity of algorithm is O(n) where n is the number of nodes in the tree\n",
    "# because all nodes have to be looked at and the time complexity spent at\n",
    "# each node is O(1) as there are no n-dependent functions in the while loop.\n",
    "#\n",
    "# This is an iterative algorithm. A similar recursive algorithm is possible."
   ]
  },
  {
   "cell_type": "code",
   "execution_count": 7,
   "metadata": {},
   "outputs": [],
   "source": [
    "#TEST:\n",
    "example = TreeNode(1)\n",
    "example.left = TreeNode(2)\n",
    "assert duplicate(example) == -1\n",
    "assert duplicate(example) == -1\n",
    "example.left.left = TreeNode(3)\n",
    "example.left.right = TreeNode(4)\n",
    "assert duplicate(example) == -1\n",
    "example.right = TreeNode(2)\n",
    "assert duplicate(example) == 2\n",
    "example.right.left = TreeNode(3)\n",
    "assert duplicate(example) == 2\n",
    "example.right.val = 9\n",
    "assert duplicate(example) == 3\n",
    "example.right.right = TreeNode(9)\n",
    "assert duplicate(example) == 3"
   ]
  },
  {
   "cell_type": "markdown",
   "metadata": {},
   "source": [
    "## Part 2"
   ]
  },
  {
   "cell_type": "markdown",
   "metadata": {},
   "source": [
    "Paraphrase the problem in your own words"
   ]
  },
  {
   "cell_type": "markdown",
   "metadata": {},
   "source": [
    "* The question is asking to write code that given a binary tree will comb through the nodes, detect the first instance of a duplicate set and return that number. Otherwise return -1 if no duplicates are detected."
   ]
  },
  {
   "cell_type": "markdown",
   "metadata": {},
   "source": [
    "Create 1 new example that demonstrates you understand the problem. Trace/walkthrough 1 example that your partner made and explain it."
   ]
  },
  {
   "cell_type": "markdown",
   "metadata": {},
   "source": [
    "Copy the solution your partner wrote."
   ]
  },
  {
   "cell_type": "markdown",
   "metadata": {},
   "source": [
    "Explain why their solution works in your own words."
   ]
  },
  {
   "cell_type": "markdown",
   "metadata": {},
   "source": [
    "Explain the problem’s time and space complexity in your own words."
   ]
  },
  {
   "cell_type": "markdown",
   "metadata": {},
   "source": [
    "Critique your partner's solution, including explanation, if there is anything should be adjusted."
   ]
  },
  {
   "cell_type": "markdown",
   "metadata": {},
   "source": [
    "## Part 3"
   ]
  },
  {
   "cell_type": "markdown",
   "metadata": {},
   "source": [
    "Please write a 200 word reflection documenting your studying process from assignment 1, and your presentation and reviewing experience with your partner at the bottom of the Juypter Notebook under a new heading \"Reflection.\" Again, export this Notebook as pdf."
   ]
  }
 ],
 "metadata": {
  "kernelspec": {
   "display_name": "envads",
   "language": "python",
   "name": "python3"
  },
  "language_info": {
   "codemirror_mode": {
    "name": "ipython",
    "version": 3
   },
   "file_extension": ".py",
   "mimetype": "text/x-python",
   "name": "python",
   "nbconvert_exporter": "python",
   "pygments_lexer": "ipython3",
   "version": "3.11.8"
  }
 },
 "nbformat": 4,
 "nbformat_minor": 2
}
