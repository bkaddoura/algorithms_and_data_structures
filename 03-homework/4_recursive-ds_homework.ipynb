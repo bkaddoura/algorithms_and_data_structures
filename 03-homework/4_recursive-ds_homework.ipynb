{
  "cells": [
    {
      "cell_type": "markdown",
      "id": "df8050ef",
      "metadata": {},
      "source": [
        "# 4: Recursive Data Structures\n",
        "\n",
        "-   Cormen: Chapter 10 exercises\n",
        "    -   10.3-1, 10.3-2, 10.3-3\n",
        "\n",
        "-   Bhargava: Chapter 6 exercises\n",
        "    -   6.1 to 6.5\n"
      ]
    },
    {
      "cell_type": "code",
      "execution_count": null,
      "id": "305754c9",
      "metadata": {},
      "outputs": [],
      "source": [
        "# Your code here"
      ]
    },
    {
      "cell_type": "markdown",
      "id": "572471d3",
      "metadata": {},
      "source": [
        "\n",
        "-   Implement preorder, postorder, and level order traversal. Determine\n",
        "    the time and space complexity in each case\n"
      ]
    },
    {
      "cell_type": "code",
      "execution_count": null,
      "id": "677f9d8f",
      "metadata": {},
      "outputs": [],
      "source": [
        "# Your code here"
      ]
    },
    {
      "cell_type": "markdown",
      "id": "0bf7e104",
      "metadata": {},
      "source": [
        "\n",
        "-   Implement a function that find an element in a BST and deletes it.\n",
        "    The descendants of the deleted node are given to the deleted node’s\n",
        "    parent. (Hard)\n"
      ]
    },
    {
      "cell_type": "code",
      "execution_count": null,
      "id": "517880a2",
      "metadata": {},
      "outputs": [],
      "source": [
        "# Your code here"
      ]
    },
    {
      "cell_type": "markdown",
      "id": "3f935680",
      "metadata": {},
      "source": [
        "\n",
        "-   Using the `graph` class from the slides, implement BST search such\n",
        "    that it stops and tell you the distance the node is from the\n",
        "    starting point.\n",
        "    -   For instance, if we searched for 7 in the graph given in the\n",
        "        slides, it would return `\"Found! Distance 2\"`.\n",
        "    -   If we searched for 100 in the graph, it would return\n",
        "        `\"Not found!\"`\n"
      ]
    },
    {
      "cell_type": "code",
      "execution_count": null,
      "id": "1a51097c",
      "metadata": {},
      "outputs": [],
      "source": [
        "# Your code here"
      ]
    },
    {
      "cell_type": "markdown",
      "id": "24183ade",
      "metadata": {},
      "source": [
        "\n",
        "-   Implement postorder graph traversal using the `graph` class from the\n",
        "    slides.\n"
      ]
    },
    {
      "cell_type": "code",
      "execution_count": null,
      "id": "d6d4674c",
      "metadata": {},
      "outputs": [],
      "source": [
        "# Your code here"
      ]
    },
    {
      "cell_type": "markdown",
      "id": "da38771b",
      "metadata": {},
      "source": [
        "\n",
        "-   Implement a function using recursion to find the sum heterogeneous\n",
        "    nested lists such as \\[\\[1, \\[2\\]\\], \\[\\[\\[3\\]\\]\\], 4, \\[\\[5, 6\\],\n",
        "    \\[\\[\\[7\\]\\]\\]\\]\\]."
      ]
    },
    {
      "cell_type": "code",
      "execution_count": null,
      "id": "dd765491",
      "metadata": {},
      "outputs": [],
      "source": [
        "# Your code here"
      ]
    }
  ],
  "metadata": {
    "kernelspec": {
      "display_name": "Python 3",
      "language": "python",
      "name": "python3"
    }
  },
  "nbformat": 4,
  "nbformat_minor": 5
}
