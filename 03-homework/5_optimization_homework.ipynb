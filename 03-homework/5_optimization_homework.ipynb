{
  "cells": [
    {
      "cell_type": "markdown",
      "id": "7b7386ac",
      "metadata": {},
      "source": [
        "# 5: Optimization\n",
        "\n",
        "-   Bhargava: Chapter 9 exercises\n",
        "    -   9.1, 9.2\n",
        "    -   Read the knapsack problem FAQs on page 171\n",
        "    -   Follow the example about longest common substring on page 178\n"
      ]
    },
    {
      "cell_type": "code",
      "execution_count": null,
      "id": "992abc26",
      "metadata": {},
      "outputs": [],
      "source": [
        "# Your code here"
      ]
    },
    {
      "cell_type": "markdown",
      "id": "5349aa98",
      "metadata": {},
      "source": [
        "\n",
        "-   Write the code to brute force the diet problem. Compare the run\n",
        "    times using the `timeit` library.\n"
      ]
    },
    {
      "cell_type": "code",
      "execution_count": null,
      "id": "402edd57",
      "metadata": {},
      "outputs": [],
      "source": [
        "# Your code here"
      ]
    },
    {
      "cell_type": "markdown",
      "id": "12f36004",
      "metadata": {},
      "source": [
        "\n",
        "-   Modify the code from the slide such that there is an upper bound for\n",
        "    calories and vitamins.\n"
      ]
    },
    {
      "cell_type": "code",
      "execution_count": null,
      "id": "93376267",
      "metadata": {},
      "outputs": [],
      "source": [
        "# Your code here"
      ]
    },
    {
      "cell_type": "markdown",
      "id": "12fe4558",
      "metadata": {},
      "source": [
        "\n",
        "-   Page 17 of Bhargava covered the travelling sales person problem. Is\n",
        "    it possible to improve the proposed solution using any method we\n",
        "    learned today?"
      ]
    },
    {
      "cell_type": "code",
      "execution_count": null,
      "id": "a88cb091",
      "metadata": {},
      "outputs": [],
      "source": [
        "# Your code here"
      ]
    }
  ],
  "metadata": {
    "kernelspec": {
      "display_name": "Python 3",
      "language": "python",
      "name": "python3"
    }
  },
  "nbformat": 4,
  "nbformat_minor": 5
}
