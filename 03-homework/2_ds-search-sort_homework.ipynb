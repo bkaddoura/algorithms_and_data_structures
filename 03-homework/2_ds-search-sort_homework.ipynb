{
  "cells": [
    {
      "cell_type": "markdown",
      "id": "c967b351",
      "metadata": {},
      "source": [
        "# 2: Data Structures, Searching, and Sorting\n",
        "\n",
        "-   Bhargava: Chapter 5\n",
        "\n",
        "    -   5.1 to 5.4\n"
      ]
    },
    {
      "cell_type": "code",
      "execution_count": null,
      "id": "46689452",
      "metadata": {},
      "outputs": [],
      "source": [
        "# Your code here"
      ]
    },
    {
      "cell_type": "markdown",
      "id": "cdde6e73",
      "metadata": {},
      "source": [
        "\n",
        "-   Give examples of 2 situations to use a queue and 2 situations to use\n",
        "    a stack\n"
      ]
    },
    {
      "cell_type": "code",
      "execution_count": null,
      "id": "f167b945",
      "metadata": {},
      "outputs": [],
      "source": [
        "# Your code here"
      ]
    },
    {
      "cell_type": "markdown",
      "id": "69af89ae",
      "metadata": {},
      "source": [
        "\n",
        "-   In Python, code a `stack` class with `is_empty`, `push`, and `pop`\n",
        "    methods using the end of a Python list as the top of the stack.\n",
        "    Bonus: Compare the run time of using the start of the list versus\n",
        "    the end of the list as the top of the stack using the `timeit`\n",
        "    library!\n"
      ]
    },
    {
      "cell_type": "code",
      "execution_count": null,
      "id": "b7469ec3",
      "metadata": {},
      "outputs": [],
      "source": [
        "# Your code here"
      ]
    },
    {
      "cell_type": "markdown",
      "id": "1ab22994",
      "metadata": {},
      "source": [
        "\n",
        "-   In Python, code a `binary_search` function.\n"
      ]
    },
    {
      "cell_type": "code",
      "execution_count": null,
      "id": "b6220791",
      "metadata": {},
      "outputs": [],
      "source": [
        "# Your code here"
      ]
    },
    {
      "cell_type": "markdown",
      "id": "a19b4c47",
      "metadata": {},
      "source": [
        "\n",
        "-   In Python, code a `hash_table` that can hash 4 values.\n"
      ]
    },
    {
      "cell_type": "code",
      "execution_count": null,
      "id": "e5fe66d6",
      "metadata": {},
      "outputs": [],
      "source": [
        "# Your code here"
      ]
    }
  ],
  "metadata": {
    "kernelspec": {
      "display_name": "Python 3",
      "language": "python",
      "name": "python3"
    }
  },
  "nbformat": 4,
  "nbformat_minor": 5
}
