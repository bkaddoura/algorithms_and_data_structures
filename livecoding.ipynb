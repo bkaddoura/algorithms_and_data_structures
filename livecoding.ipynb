{
 "cells": [
  {
   "cell_type": "code",
   "execution_count": 2,
   "metadata": {},
   "outputs": [
    {
     "data": {
      "text/plain": [
       "['__add__',\n",
       " '__class__',\n",
       " '__class_getitem__',\n",
       " '__contains__',\n",
       " '__delattr__',\n",
       " '__delitem__',\n",
       " '__dir__',\n",
       " '__doc__',\n",
       " '__eq__',\n",
       " '__format__',\n",
       " '__ge__',\n",
       " '__getattribute__',\n",
       " '__getitem__',\n",
       " '__getstate__',\n",
       " '__gt__',\n",
       " '__hash__',\n",
       " '__iadd__',\n",
       " '__imul__',\n",
       " '__init__',\n",
       " '__init_subclass__',\n",
       " '__iter__',\n",
       " '__le__',\n",
       " '__len__',\n",
       " '__lt__',\n",
       " '__mul__',\n",
       " '__ne__',\n",
       " '__new__',\n",
       " '__reduce__',\n",
       " '__reduce_ex__',\n",
       " '__repr__',\n",
       " '__reversed__',\n",
       " '__rmul__',\n",
       " '__setattr__',\n",
       " '__setitem__',\n",
       " '__sizeof__',\n",
       " '__str__',\n",
       " '__subclasshook__',\n",
       " 'append',\n",
       " 'clear',\n",
       " 'copy',\n",
       " 'count',\n",
       " 'extend',\n",
       " 'index',\n",
       " 'insert',\n",
       " 'pop',\n",
       " 'remove',\n",
       " 'reverse',\n",
       " 'sort']"
      ]
     },
     "execution_count": 2,
     "metadata": {},
     "output_type": "execute_result"
    }
   ],
   "source": [
    "browsing_session = []\n",
    "dir(browsing_session)"
   ]
  },
  {
   "cell_type": "code",
   "execution_count": null,
   "metadata": {},
   "outputs": [],
   "source": [
    "# 2^n\n",
    "# --->\n",
    "# <---\n",
    "# log base (2) n"
   ]
  },
  {
   "cell_type": "code",
   "execution_count": 6,
   "metadata": {},
   "outputs": [],
   "source": [
    "def countdown(i):\n",
    "    print(i)\n",
    "    if i<=0:\n",
    "        return\n",
    "    countdown(i-1)\n"
   ]
  },
  {
   "cell_type": "code",
   "execution_count": 7,
   "metadata": {},
   "outputs": [
    {
     "name": "stdout",
     "output_type": "stream",
     "text": [
      "20\n",
      "19\n",
      "18\n",
      "17\n",
      "16\n",
      "15\n",
      "14\n",
      "13\n",
      "12\n",
      "11\n",
      "10\n",
      "9\n",
      "8\n",
      "7\n",
      "6\n",
      "5\n",
      "4\n",
      "3\n",
      "2\n",
      "1\n",
      "0\n"
     ]
    }
   ],
   "source": [
    "countdown(20)"
   ]
  },
  {
   "cell_type": "code",
   "execution_count": 15,
   "metadata": {},
   "outputs": [],
   "source": [
    "def factorial(x):\n",
    "    if x == 1:\n",
    "        return 1\n",
    "    else:\n",
    "        return x * factorial(x -1)"
   ]
  },
  {
   "cell_type": "code",
   "execution_count": 16,
   "metadata": {},
   "outputs": [
    {
     "data": {
      "text/plain": [
       "120"
      ]
     },
     "execution_count": 16,
     "metadata": {},
     "output_type": "execute_result"
    }
   ],
   "source": [
    "factorial(5)"
   ]
  },
  {
   "cell_type": "code",
   "execution_count": 17,
   "metadata": {},
   "outputs": [],
   "source": [
    "def fib(n):\n",
    "    if n<=1:\n",
    "        return n\n",
    "    else:\n",
    "        return fib(n-1) + fib(n-2)"
   ]
  },
  {
   "cell_type": "code",
   "execution_count": 18,
   "metadata": {},
   "outputs": [],
   "source": [
    "def recursive(n):\n",
    "  for i in range(n):\n",
    "    # Something happens\n",
    "    i += 2\n",
    "  if n <= 0:\n",
    "    return 1\n",
    "  else:\n",
    "    return 1 + recursive(n - 3)"
   ]
  },
  {
   "cell_type": "code",
   "execution_count": null,
   "metadata": {},
   "outputs": [],
   "source": [
    "# Define the base case (The case where the problem is trivial to solve)"
   ]
  },
  {
   "cell_type": "code",
   "execution_count": 21,
   "metadata": {},
   "outputs": [],
   "source": [
    "def find_all_combinations_recursive(lst, x, combinations, result):\n",
    "    if x == 0:\n",
    "        result.append(combinations)\n",
    "        return\n",
    "    if x < 0 or len(lst) == 0:\n",
    "        return\n",
    "    \n",
    "    find_all_combinations_recursive(lst[1:], x, combinations, result) # In this case , lst[0] is not in the solution\n",
    "    find_all_combinations_recursive(lst[1:], x - lst[0], combinations + [lst[0]], result) # In this case lst[0] is in the solution"
   ]
  },
  {
   "cell_type": "code",
   "execution_count": 22,
   "metadata": {},
   "outputs": [],
   "source": [
    "def find_all_combinations(lst,x):\n",
    "    result = []\n",
    "    find_all_combinations_recursive(lst, x, [], result)\n",
    "    return result"
   ]
  },
  {
   "cell_type": "code",
   "execution_count": 24,
   "metadata": {},
   "outputs": [
    {
     "data": {
      "text/plain": [
       "[[6], [1, 5]]"
      ]
     },
     "execution_count": 24,
     "metadata": {},
     "output_type": "execute_result"
    }
   ],
   "source": [
    "# INPUT\n",
    "lst = [1,2,5,6]\n",
    "x = 6\n",
    "\n",
    "find_all_combinations(lst,x)\n",
    "# OUTPUT\n",
    "# [1,5]\n",
    "# [6]"
   ]
  },
  {
   "cell_type": "code",
   "execution_count": null,
   "metadata": {},
   "outputs": [],
   "source": [
    "# lst =  [1,2,5,6]\n",
    "# x = 6\n",
    "\n",
    "# Two options in the solution\n",
    "# Either 1 is part of the solution or 1 is not part of the solution\n",
    "\n",
    "# solve the problem if 1 is part of the solution\n",
    "# Simplifying the problem\n",
    "# We remove 1 from the lst\n",
    "# We subtract 1 from x\n",
    "# We add 1 to our \"working solution\" called combinations\n",
    "# lst = [2,5,6]\n",
    "# x = 5\n",
    "# combinations = [1]\n",
    "\n",
    "# solve the problem if 1 is not a part of  the solution\n",
    "# Simplify the problem\n",
    "# We remove 1 from "
   ]
  },
  {
   "cell_type": "code",
   "execution_count": 5,
   "metadata": {},
   "outputs": [],
   "source": [
    "class Node:\n",
    "  \"\"\"Tree class\n",
    "  \"\"\"\n",
    "  def __init__(self, key):\n",
    "    self.left = None\n",
    "    self.right = None\n",
    "    self.val = key\n",
    "    \n",
    "def print_inorder(root):\n",
    "  if root:\n",
    "    print_inorder(root.left)\n",
    "    print(root.val, end = \" \")\n",
    "    print_inorder(root.right)\n",
    "\n",
    "def print_preorder(root):\n",
    "  if root:\n",
    "    print(root.val, end = \" \")\n",
    "    print_preorder(root.left)\n",
    "    print_preorder(root.right)\n",
    "\n",
    "def print_postorder(root):\n",
    "  if root:\n",
    "    print_postorder(root.left)\n",
    "    print_postorder(root.right)\n",
    "    print(root.val, end = \" \")"
   ]
  },
  {
   "cell_type": "code",
   "execution_count": 6,
   "metadata": {},
   "outputs": [
    {
     "name": "stdout",
     "output_type": "stream",
     "text": [
      "4 2 5 1 6 3 "
     ]
    }
   ],
   "source": [
    "root = Node(1)\n",
    "root.left = Node(2)\n",
    "root.right = Node(3)\n",
    "root.left.left = Node(4)\n",
    "root.left.right = Node(5)\n",
    "root.right.left = Node(6)\n",
    "print_inorder(root)"
   ]
  },
  {
   "cell_type": "code",
   "execution_count": 7,
   "metadata": {},
   "outputs": [
    {
     "name": "stdout",
     "output_type": "stream",
     "text": [
      "1 2 4 5 3 6 "
     ]
    }
   ],
   "source": [
    "print_preorder(root)"
   ]
  },
  {
   "cell_type": "code",
   "execution_count": 8,
   "metadata": {},
   "outputs": [
    {
     "name": "stdout",
     "output_type": "stream",
     "text": [
      "4 5 2 6 3 1 "
     ]
    }
   ],
   "source": [
    "print_postorder(root)"
   ]
  },
  {
   "cell_type": "code",
   "execution_count": 9,
   "metadata": {},
   "outputs": [],
   "source": [
    "bst = Node(100)"
   ]
  },
  {
   "cell_type": "code",
   "execution_count": 10,
   "metadata": {},
   "outputs": [],
   "source": [
    "def insert_into_bst(root, value):\n",
    "    if root is None:\n",
    "        return Node(value)\n",
    "    else:\n",
    "        if root.val > value:\n",
    "            root.left = insert_into_bst(root.left, value)\n",
    "            return root\n",
    "        else:\n",
    "            root.right = insert_into_bst(root.right, value)\n",
    "            return root"
   ]
  },
  {
   "cell_type": "code",
   "execution_count": 15,
   "metadata": {},
   "outputs": [
    {
     "data": {
      "text/plain": [
       "<__main__.Node at 0x27843c04a50>"
      ]
     },
     "execution_count": 15,
     "metadata": {},
     "output_type": "execute_result"
    }
   ],
   "source": [
    "insert_into_bst(bst, 5)"
   ]
  },
  {
   "cell_type": "code",
   "execution_count": 21,
   "metadata": {},
   "outputs": [
    {
     "data": {
      "text/plain": [
       "5"
      ]
     },
     "execution_count": 21,
     "metadata": {},
     "output_type": "execute_result"
    }
   ],
   "source": [
    "bst.left.val"
   ]
  },
  {
   "cell_type": "code",
   "execution_count": 11,
   "metadata": {},
   "outputs": [
    {
     "data": {
      "text/plain": [
       "<__main__.Node at 0x1e6dc34edd0>"
      ]
     },
     "execution_count": 11,
     "metadata": {},
     "output_type": "execute_result"
    }
   ],
   "source": [
    "insert_into_bst(bst, 20)\n",
    "insert_into_bst(bst, 10)\n",
    "insert_into_bst(bst, 30)\n",
    "insert_into_bst(bst, 500)"
   ]
  },
  {
   "cell_type": "code",
   "execution_count": 12,
   "metadata": {},
   "outputs": [
    {
     "name": "stdout",
     "output_type": "stream",
     "text": [
      "100\n",
      "20\n",
      "10\n",
      "30\n",
      "500\n"
     ]
    }
   ],
   "source": [
    "print(bst.val) # Expect 100\n",
    "print(bst.left.val) # Expect 20\n",
    "print(bst.left.left.val) # Expect 10\n",
    "print(bst.left.right.val) # Expect 30\n",
    "print(bst.right.val) # Expect 500"
   ]
  },
  {
   "cell_type": "code",
   "execution_count": 13,
   "metadata": {},
   "outputs": [],
   "source": [
    "from collections import deque\n",
    "\n",
    "class Graph:\n",
    "  def __init__(self):\n",
    "    self.graph = {}\n",
    "\n",
    "  def add_edge(self, vertex, neighbors):\n",
    "    self.graph[vertex] = neighbors"
   ]
  },
  {
   "cell_type": "code",
   "execution_count": 14,
   "metadata": {},
   "outputs": [],
   "source": [
    "def bfs(graph, start):\n",
    "  visited = set()\n",
    "  queue = deque([start])\n",
    "\n",
    "  while queue:\n",
    "    current_vertex = queue.popleft()\n",
    "\n",
    "    if current_vertex not in visited:\n",
    "      # Process the current vertex\n",
    "      print(current_vertex, end=' ')\n",
    "      visited.add(current_vertex)\n",
    "\n",
    "      # Enqueue unvisited neighbors\n",
    "      for neighbor in graph.graph.get(current_vertex, []):\n",
    "        if neighbor not in visited:\n",
    "          queue.append(neighbor)"
   ]
  },
  {
   "cell_type": "code",
   "execution_count": 15,
   "metadata": {},
   "outputs": [],
   "source": [
    "# Represent graph from above\n",
    "ex_graph = Graph()\n",
    "ex_graph.add_edge(1, [3, 6])\n",
    "ex_graph.add_edge(3, [10, 6])\n",
    "ex_graph.add_edge(6, [3, 7])\n",
    "ex_graph.add_edge(10, [3, 7])\n",
    "ex_graph.add_edge(7, [10, 6])"
   ]
  },
  {
   "cell_type": "code",
   "execution_count": 16,
   "metadata": {},
   "outputs": [
    {
     "name": "stdout",
     "output_type": "stream",
     "text": [
      "1 3 6 10 7 "
     ]
    }
   ],
   "source": [
    "# Perform BFS starting from vertex 1\n",
    "bfs(ex_graph, 1)"
   ]
  },
  {
   "cell_type": "code",
   "execution_count": null,
   "metadata": {},
   "outputs": [],
   "source": [
    "1 - 3 - 10\n",
    "|   |    |\n",
    "6 - J    |\n",
    "|        |\n",
    "7 -------J"
   ]
  },
  {
   "cell_type": "code",
   "execution_count": 18,
   "metadata": {},
   "outputs": [],
   "source": [
    "def recursive_preorder_traversal(graph, start, visited=None):\n",
    "  if visited is None:\n",
    "    visited = set()\n",
    "\n",
    "  # Process the current vertex\n",
    "  print(start, end=' ')\n",
    "  visited.add(start)\n",
    "\n",
    "    # Recursive traversal of neighbors\n",
    "  for neighbor in graph.graph.get(start, []):\n",
    "    if neighbor not in visited:\n",
    "      recursive_preorder_traversal(graph, neighbor, visited)"
   ]
  },
  {
   "cell_type": "code",
   "execution_count": 19,
   "metadata": {},
   "outputs": [
    {
     "name": "stdout",
     "output_type": "stream",
     "text": [
      "1 3 10 7 6 "
     ]
    }
   ],
   "source": [
    "recursive_preorder_traversal(ex_graph, 1)"
   ]
  },
  {
   "cell_type": "code",
   "execution_count": 2,
   "metadata": {},
   "outputs": [
    {
     "name": "stdout",
     "output_type": "stream",
     "text": [
      "Collecting pulp\n",
      "  Downloading PuLP-2.8.0-py3-none-any.whl.metadata (5.4 kB)\n",
      "Downloading PuLP-2.8.0-py3-none-any.whl (17.7 MB)\n",
      "   ---------------------------------------- 0.0/17.7 MB ? eta -:--:--\n",
      "   ---------------------------------------- 0.0/17.7 MB ? eta -:--:--\n",
      "   ---------------------------------------- 0.0/17.7 MB ? eta -:--:--\n",
      "   ---------------------------------------- 0.1/17.7 MB 544.7 kB/s eta 0:00:33\n",
      "   ---------------------------------------- 0.1/17.7 MB 717.5 kB/s eta 0:00:25\n",
      "    --------------------------------------- 0.2/17.7 MB 1.1 MB/s eta 0:00:17\n",
      "    --------------------------------------- 0.3/17.7 MB 1.1 MB/s eta 0:00:16\n",
      "    --------------------------------------- 0.4/17.7 MB 1.4 MB/s eta 0:00:13\n",
      "   - -------------------------------------- 0.5/17.7 MB 1.3 MB/s eta 0:00:14\n",
      "   - -------------------------------------- 0.6/17.7 MB 1.4 MB/s eta 0:00:13\n",
      "   - -------------------------------------- 0.7/17.7 MB 1.6 MB/s eta 0:00:11\n",
      "   - -------------------------------------- 0.7/17.7 MB 1.5 MB/s eta 0:00:12\n",
      "   - -------------------------------------- 0.8/17.7 MB 1.5 MB/s eta 0:00:12\n",
      "   -- ------------------------------------- 0.9/17.7 MB 1.5 MB/s eta 0:00:12\n",
      "   -- ------------------------------------- 0.9/17.7 MB 1.5 MB/s eta 0:00:11\n",
      "   -- ------------------------------------- 1.0/17.7 MB 1.5 MB/s eta 0:00:12\n",
      "   -- ------------------------------------- 1.1/17.7 MB 1.5 MB/s eta 0:00:12\n",
      "   -- ------------------------------------- 1.1/17.7 MB 1.5 MB/s eta 0:00:12\n",
      "   -- ------------------------------------- 1.3/17.7 MB 1.5 MB/s eta 0:00:11\n",
      "   -- ------------------------------------- 1.3/17.7 MB 1.6 MB/s eta 0:00:11\n",
      "   --- ------------------------------------ 1.4/17.7 MB 1.6 MB/s eta 0:00:11\n",
      "   --- ------------------------------------ 1.5/17.7 MB 1.6 MB/s eta 0:00:11\n",
      "   --- ------------------------------------ 1.6/17.7 MB 1.6 MB/s eta 0:00:11\n",
      "   --- ------------------------------------ 1.6/17.7 MB 1.6 MB/s eta 0:00:11\n",
      "   --- ------------------------------------ 1.7/17.7 MB 1.6 MB/s eta 0:00:11\n",
      "   ---- ----------------------------------- 1.8/17.7 MB 1.6 MB/s eta 0:00:10\n",
      "   ---- ----------------------------------- 1.9/17.7 MB 1.6 MB/s eta 0:00:11\n",
      "   ---- ----------------------------------- 2.0/17.7 MB 1.6 MB/s eta 0:00:10\n",
      "   ---- ----------------------------------- 2.0/17.7 MB 1.6 MB/s eta 0:00:10\n",
      "   ---- ----------------------------------- 2.1/17.7 MB 1.6 MB/s eta 0:00:10\n",
      "   ---- ----------------------------------- 2.2/17.7 MB 1.6 MB/s eta 0:00:10\n",
      "   ----- ---------------------------------- 2.3/17.7 MB 1.6 MB/s eta 0:00:10\n",
      "   ----- ---------------------------------- 2.4/17.7 MB 1.7 MB/s eta 0:00:10\n",
      "   ----- ---------------------------------- 2.4/17.7 MB 1.7 MB/s eta 0:00:10\n",
      "   ----- ---------------------------------- 2.6/17.7 MB 1.7 MB/s eta 0:00:10\n",
      "   ----- ---------------------------------- 2.6/17.7 MB 1.6 MB/s eta 0:00:10\n",
      "   ------ --------------------------------- 2.7/17.7 MB 1.6 MB/s eta 0:00:10\n",
      "   ------ --------------------------------- 2.8/17.7 MB 1.6 MB/s eta 0:00:10\n",
      "   ------ --------------------------------- 2.8/17.7 MB 1.6 MB/s eta 0:00:10\n",
      "   ------ --------------------------------- 2.9/17.7 MB 1.6 MB/s eta 0:00:10\n",
      "   ------ --------------------------------- 3.0/17.7 MB 1.6 MB/s eta 0:00:10\n",
      "   ------ --------------------------------- 3.1/17.7 MB 1.6 MB/s eta 0:00:10\n",
      "   ------- -------------------------------- 3.1/17.7 MB 1.6 MB/s eta 0:00:09\n",
      "   ------- -------------------------------- 3.2/17.7 MB 1.6 MB/s eta 0:00:10\n",
      "   ------- -------------------------------- 3.3/17.7 MB 1.6 MB/s eta 0:00:09\n",
      "   ------- -------------------------------- 3.4/17.7 MB 1.6 MB/s eta 0:00:09\n",
      "   ------- -------------------------------- 3.4/17.7 MB 1.6 MB/s eta 0:00:09\n",
      "   ------- -------------------------------- 3.5/17.7 MB 1.6 MB/s eta 0:00:09\n",
      "   -------- ------------------------------- 3.6/17.7 MB 1.6 MB/s eta 0:00:09\n",
      "   -------- ------------------------------- 3.7/17.7 MB 1.6 MB/s eta 0:00:09\n",
      "   -------- ------------------------------- 3.8/17.7 MB 1.6 MB/s eta 0:00:09\n",
      "   -------- ------------------------------- 3.9/17.7 MB 1.6 MB/s eta 0:00:09\n",
      "   -------- ------------------------------- 4.0/17.7 MB 1.6 MB/s eta 0:00:09\n",
      "   --------- ------------------------------ 4.0/17.7 MB 1.6 MB/s eta 0:00:09\n",
      "   --------- ------------------------------ 4.1/17.7 MB 1.6 MB/s eta 0:00:09\n",
      "   --------- ------------------------------ 4.2/17.7 MB 1.6 MB/s eta 0:00:09\n",
      "   --------- ------------------------------ 4.2/17.7 MB 1.6 MB/s eta 0:00:09\n",
      "   --------- ------------------------------ 4.3/17.7 MB 1.6 MB/s eta 0:00:09\n",
      "   --------- ------------------------------ 4.4/17.7 MB 1.6 MB/s eta 0:00:09\n",
      "   ---------- ----------------------------- 4.5/17.7 MB 1.6 MB/s eta 0:00:09\n",
      "   ---------- ----------------------------- 4.6/17.7 MB 1.6 MB/s eta 0:00:08\n",
      "   ---------- ----------------------------- 4.7/17.7 MB 1.6 MB/s eta 0:00:08\n",
      "   ---------- ----------------------------- 4.7/17.7 MB 1.6 MB/s eta 0:00:08\n",
      "   ---------- ----------------------------- 4.8/17.7 MB 1.6 MB/s eta 0:00:08\n",
      "   ----------- ---------------------------- 4.9/17.7 MB 1.6 MB/s eta 0:00:08\n",
      "   ----------- ---------------------------- 5.0/17.7 MB 1.6 MB/s eta 0:00:08\n",
      "   ----------- ---------------------------- 5.1/17.7 MB 1.6 MB/s eta 0:00:08\n",
      "   ----------- ---------------------------- 5.1/17.7 MB 1.6 MB/s eta 0:00:08\n",
      "   ----------- ---------------------------- 5.2/17.7 MB 1.7 MB/s eta 0:00:08\n",
      "   ----------- ---------------------------- 5.3/17.7 MB 1.7 MB/s eta 0:00:08\n",
      "   ------------ --------------------------- 5.4/17.7 MB 1.7 MB/s eta 0:00:08\n",
      "   ------------ --------------------------- 5.4/17.7 MB 1.7 MB/s eta 0:00:08\n",
      "   ------------ --------------------------- 5.6/17.7 MB 1.7 MB/s eta 0:00:08\n",
      "   ------------ --------------------------- 5.7/17.7 MB 1.7 MB/s eta 0:00:08\n",
      "   ------------- -------------------------- 5.8/17.7 MB 1.7 MB/s eta 0:00:08\n",
      "   ------------- -------------------------- 5.9/17.7 MB 1.7 MB/s eta 0:00:08\n",
      "   ------------- -------------------------- 6.0/17.7 MB 1.7 MB/s eta 0:00:07\n",
      "   ------------- -------------------------- 6.1/17.7 MB 1.7 MB/s eta 0:00:07\n",
      "   ------------- -------------------------- 6.1/17.7 MB 1.7 MB/s eta 0:00:07\n",
      "   -------------- ------------------------- 6.2/17.7 MB 1.7 MB/s eta 0:00:07\n",
      "   -------------- ------------------------- 6.3/17.7 MB 1.7 MB/s eta 0:00:07\n",
      "   -------------- ------------------------- 6.4/17.7 MB 1.7 MB/s eta 0:00:07\n",
      "   -------------- ------------------------- 6.5/17.7 MB 1.7 MB/s eta 0:00:07\n",
      "   -------------- ------------------------- 6.6/17.7 MB 1.7 MB/s eta 0:00:07\n",
      "   -------------- ------------------------- 6.6/17.7 MB 1.7 MB/s eta 0:00:07\n",
      "   --------------- ------------------------ 6.8/17.7 MB 1.7 MB/s eta 0:00:07\n",
      "   --------------- ------------------------ 6.8/17.7 MB 1.7 MB/s eta 0:00:07\n",
      "   --------------- ------------------------ 6.9/17.7 MB 1.7 MB/s eta 0:00:07\n",
      "   --------------- ------------------------ 7.0/17.7 MB 1.7 MB/s eta 0:00:07\n",
      "   --------------- ------------------------ 7.1/17.7 MB 1.7 MB/s eta 0:00:07\n",
      "   ---------------- ----------------------- 7.2/17.7 MB 1.7 MB/s eta 0:00:07\n",
      "   ---------------- ----------------------- 7.2/17.7 MB 1.7 MB/s eta 0:00:07\n",
      "   ---------------- ----------------------- 7.3/17.7 MB 1.7 MB/s eta 0:00:07\n",
      "   ---------------- ----------------------- 7.4/17.7 MB 1.7 MB/s eta 0:00:07\n",
      "   ---------------- ----------------------- 7.4/17.7 MB 1.7 MB/s eta 0:00:07\n",
      "   ---------------- ----------------------- 7.5/17.7 MB 1.7 MB/s eta 0:00:07\n",
      "   ----------------- ---------------------- 7.5/17.7 MB 1.7 MB/s eta 0:00:07\n",
      "   ----------------- ---------------------- 7.6/17.7 MB 1.7 MB/s eta 0:00:06\n",
      "   ----------------- ---------------------- 7.7/17.7 MB 1.7 MB/s eta 0:00:06\n",
      "   ----------------- ---------------------- 7.8/17.7 MB 1.7 MB/s eta 0:00:06\n",
      "   ------------------ --------------------- 8.0/17.7 MB 1.7 MB/s eta 0:00:06\n",
      "   ------------------ --------------------- 8.0/17.7 MB 1.7 MB/s eta 0:00:06\n",
      "   ------------------ --------------------- 8.0/17.7 MB 1.7 MB/s eta 0:00:06\n",
      "   ------------------ --------------------- 8.1/17.7 MB 1.7 MB/s eta 0:00:06\n",
      "   ------------------ --------------------- 8.2/17.7 MB 1.7 MB/s eta 0:00:06\n",
      "   ------------------ --------------------- 8.2/17.7 MB 1.7 MB/s eta 0:00:06\n",
      "   ------------------ --------------------- 8.3/17.7 MB 1.7 MB/s eta 0:00:06\n",
      "   ------------------ --------------------- 8.4/17.7 MB 1.7 MB/s eta 0:00:06\n",
      "   ------------------- -------------------- 8.5/17.7 MB 1.7 MB/s eta 0:00:06\n",
      "   ------------------- -------------------- 8.6/17.7 MB 1.7 MB/s eta 0:00:06\n",
      "   ------------------- -------------------- 8.6/17.7 MB 1.7 MB/s eta 0:00:06\n",
      "   ------------------- -------------------- 8.8/17.7 MB 1.7 MB/s eta 0:00:06\n",
      "   ------------------- -------------------- 8.8/17.7 MB 1.7 MB/s eta 0:00:06\n",
      "   -------------------- ------------------- 8.9/17.7 MB 1.7 MB/s eta 0:00:06\n",
      "   -------------------- ------------------- 8.9/17.7 MB 1.7 MB/s eta 0:00:06\n",
      "   -------------------- ------------------- 9.1/17.7 MB 1.7 MB/s eta 0:00:06\n",
      "   -------------------- ------------------- 9.2/17.7 MB 1.7 MB/s eta 0:00:06\n",
      "   -------------------- ------------------- 9.3/17.7 MB 1.7 MB/s eta 0:00:05\n",
      "   --------------------- ------------------ 9.3/17.7 MB 1.7 MB/s eta 0:00:05\n",
      "   --------------------- ------------------ 9.5/17.7 MB 1.7 MB/s eta 0:00:05\n",
      "   --------------------- ------------------ 9.6/17.7 MB 1.7 MB/s eta 0:00:05\n",
      "   --------------------- ------------------ 9.7/17.7 MB 1.7 MB/s eta 0:00:05\n",
      "   ---------------------- ----------------- 9.8/17.7 MB 1.7 MB/s eta 0:00:05\n",
      "   ---------------------- ----------------- 9.8/17.7 MB 1.7 MB/s eta 0:00:05\n",
      "   ---------------------- ----------------- 9.9/17.7 MB 1.7 MB/s eta 0:00:05\n",
      "   ---------------------- ----------------- 9.9/17.7 MB 1.7 MB/s eta 0:00:05\n",
      "   ---------------------- ----------------- 10.0/17.7 MB 1.7 MB/s eta 0:00:05\n",
      "   ---------------------- ----------------- 10.1/17.7 MB 1.7 MB/s eta 0:00:05\n",
      "   ----------------------- ---------------- 10.2/17.7 MB 1.7 MB/s eta 0:00:05\n",
      "   ----------------------- ---------------- 10.3/17.7 MB 1.7 MB/s eta 0:00:05\n",
      "   ----------------------- ---------------- 10.4/17.7 MB 1.7 MB/s eta 0:00:05\n",
      "   ----------------------- ---------------- 10.5/17.7 MB 1.7 MB/s eta 0:00:05\n",
      "   ----------------------- ---------------- 10.6/17.7 MB 1.7 MB/s eta 0:00:05\n",
      "   ------------------------ --------------- 10.7/17.7 MB 1.7 MB/s eta 0:00:05\n",
      "   ------------------------ --------------- 10.7/17.7 MB 1.7 MB/s eta 0:00:05\n",
      "   ------------------------ --------------- 10.8/17.7 MB 1.7 MB/s eta 0:00:04\n",
      "   ------------------------ --------------- 10.9/17.7 MB 1.7 MB/s eta 0:00:04\n",
      "   ------------------------ --------------- 11.0/17.7 MB 1.7 MB/s eta 0:00:04\n",
      "   ------------------------- -------------- 11.1/17.7 MB 1.7 MB/s eta 0:00:04\n",
      "   ------------------------- -------------- 11.1/17.7 MB 1.7 MB/s eta 0:00:04\n",
      "   ------------------------- -------------- 11.3/17.7 MB 1.7 MB/s eta 0:00:04\n",
      "   ------------------------- -------------- 11.3/17.7 MB 1.7 MB/s eta 0:00:04\n",
      "   ------------------------- -------------- 11.5/17.7 MB 1.7 MB/s eta 0:00:04\n",
      "   -------------------------- ------------- 11.6/17.7 MB 1.7 MB/s eta 0:00:04\n",
      "   -------------------------- ------------- 11.6/17.7 MB 1.7 MB/s eta 0:00:04\n",
      "   -------------------------- ------------- 11.7/17.7 MB 1.7 MB/s eta 0:00:04\n",
      "   -------------------------- ------------- 11.7/17.7 MB 1.7 MB/s eta 0:00:04\n",
      "   -------------------------- ------------- 11.8/17.7 MB 1.7 MB/s eta 0:00:04\n",
      "   -------------------------- ------------- 11.9/17.7 MB 1.7 MB/s eta 0:00:04\n",
      "   --------------------------- ------------ 12.0/17.7 MB 1.7 MB/s eta 0:00:04\n",
      "   --------------------------- ------------ 12.0/17.7 MB 1.7 MB/s eta 0:00:04\n",
      "   --------------------------- ------------ 12.1/17.7 MB 1.7 MB/s eta 0:00:04\n",
      "   --------------------------- ------------ 12.2/17.7 MB 1.7 MB/s eta 0:00:04\n",
      "   --------------------------- ------------ 12.3/17.7 MB 1.7 MB/s eta 0:00:04\n",
      "   --------------------------- ------------ 12.3/17.7 MB 1.7 MB/s eta 0:00:04\n",
      "   ---------------------------- ----------- 12.4/17.7 MB 1.7 MB/s eta 0:00:04\n",
      "   ---------------------------- ----------- 12.5/17.7 MB 1.7 MB/s eta 0:00:04\n",
      "   ---------------------------- ----------- 12.6/17.7 MB 1.7 MB/s eta 0:00:03\n",
      "   ---------------------------- ----------- 12.7/17.7 MB 1.7 MB/s eta 0:00:03\n",
      "   ---------------------------- ----------- 12.8/17.7 MB 1.7 MB/s eta 0:00:03\n",
      "   ----------------------------- ---------- 12.8/17.7 MB 1.7 MB/s eta 0:00:03\n",
      "   ----------------------------- ---------- 13.0/17.7 MB 1.7 MB/s eta 0:00:03\n",
      "   ----------------------------- ---------- 13.0/17.7 MB 1.7 MB/s eta 0:00:03\n",
      "   ----------------------------- ---------- 13.2/17.7 MB 1.7 MB/s eta 0:00:03\n",
      "   ----------------------------- ---------- 13.2/17.7 MB 1.7 MB/s eta 0:00:03\n",
      "   ------------------------------ --------- 13.3/17.7 MB 1.7 MB/s eta 0:00:03\n",
      "   ------------------------------ --------- 13.3/17.7 MB 1.7 MB/s eta 0:00:03\n",
      "   ------------------------------ --------- 13.4/17.7 MB 1.7 MB/s eta 0:00:03\n",
      "   ------------------------------ --------- 13.5/17.7 MB 1.7 MB/s eta 0:00:03\n",
      "   ------------------------------ --------- 13.6/17.7 MB 1.7 MB/s eta 0:00:03\n",
      "   ------------------------------ --------- 13.7/17.7 MB 1.7 MB/s eta 0:00:03\n",
      "   ------------------------------- -------- 13.8/17.7 MB 1.7 MB/s eta 0:00:03\n",
      "   ------------------------------- -------- 13.8/17.7 MB 1.7 MB/s eta 0:00:03\n",
      "   ------------------------------- -------- 13.9/17.7 MB 1.7 MB/s eta 0:00:03\n",
      "   ------------------------------- -------- 14.0/17.7 MB 1.7 MB/s eta 0:00:03\n",
      "   ------------------------------- -------- 14.0/17.7 MB 1.7 MB/s eta 0:00:03\n",
      "   ------------------------------- -------- 14.1/17.7 MB 1.7 MB/s eta 0:00:03\n",
      "   -------------------------------- ------- 14.2/17.7 MB 1.7 MB/s eta 0:00:03\n",
      "   -------------------------------- ------- 14.3/17.7 MB 1.7 MB/s eta 0:00:02\n",
      "   -------------------------------- ------- 14.4/17.7 MB 1.7 MB/s eta 0:00:02\n",
      "   -------------------------------- ------- 14.5/17.7 MB 1.7 MB/s eta 0:00:02\n",
      "   -------------------------------- ------- 14.5/17.7 MB 1.7 MB/s eta 0:00:02\n",
      "   -------------------------------- ------- 14.6/17.7 MB 1.7 MB/s eta 0:00:02\n",
      "   --------------------------------- ------ 14.6/17.7 MB 1.7 MB/s eta 0:00:02\n",
      "   --------------------------------- ------ 14.7/17.7 MB 1.7 MB/s eta 0:00:02\n",
      "   --------------------------------- ------ 14.8/17.7 MB 1.7 MB/s eta 0:00:02\n",
      "   --------------------------------- ------ 14.8/17.7 MB 1.7 MB/s eta 0:00:02\n",
      "   --------------------------------- ------ 14.9/17.7 MB 1.7 MB/s eta 0:00:02\n",
      "   --------------------------------- ------ 15.0/17.7 MB 1.7 MB/s eta 0:00:02\n",
      "   ---------------------------------- ----- 15.1/17.7 MB 1.7 MB/s eta 0:00:02\n",
      "   ---------------------------------- ----- 15.1/17.7 MB 1.7 MB/s eta 0:00:02\n",
      "   ---------------------------------- ----- 15.2/17.7 MB 1.7 MB/s eta 0:00:02\n",
      "   ---------------------------------- ----- 15.2/17.7 MB 1.7 MB/s eta 0:00:02\n",
      "   ---------------------------------- ----- 15.2/17.7 MB 1.7 MB/s eta 0:00:02\n",
      "   ---------------------------------- ----- 15.3/17.7 MB 1.7 MB/s eta 0:00:02\n",
      "   ---------------------------------- ----- 15.4/17.7 MB 1.7 MB/s eta 0:00:02\n",
      "   ---------------------------------- ----- 15.4/17.7 MB 1.7 MB/s eta 0:00:02\n",
      "   ----------------------------------- ---- 15.5/17.7 MB 1.7 MB/s eta 0:00:02\n",
      "   ----------------------------------- ---- 15.6/17.7 MB 1.7 MB/s eta 0:00:02\n",
      "   ----------------------------------- ---- 15.7/17.7 MB 1.7 MB/s eta 0:00:02\n",
      "   ----------------------------------- ---- 15.7/17.7 MB 1.7 MB/s eta 0:00:02\n",
      "   ----------------------------------- ---- 15.8/17.7 MB 1.7 MB/s eta 0:00:02\n",
      "   ----------------------------------- ---- 15.9/17.7 MB 1.7 MB/s eta 0:00:02\n",
      "   ------------------------------------ --- 16.0/17.7 MB 1.7 MB/s eta 0:00:02\n",
      "   ------------------------------------ --- 16.0/17.7 MB 1.7 MB/s eta 0:00:02\n",
      "   ------------------------------------ --- 16.1/17.7 MB 1.7 MB/s eta 0:00:01\n",
      "   ------------------------------------ --- 16.2/17.7 MB 1.7 MB/s eta 0:00:01\n",
      "   ------------------------------------ --- 16.3/17.7 MB 1.7 MB/s eta 0:00:01\n",
      "   ------------------------------------- -- 16.4/17.7 MB 1.7 MB/s eta 0:00:01\n",
      "   ------------------------------------- -- 16.4/17.7 MB 1.7 MB/s eta 0:00:01\n",
      "   ------------------------------------- -- 16.5/17.7 MB 1.7 MB/s eta 0:00:01\n",
      "   ------------------------------------- -- 16.6/17.7 MB 1.7 MB/s eta 0:00:01\n",
      "   ------------------------------------- -- 16.7/17.7 MB 1.7 MB/s eta 0:00:01\n",
      "   ------------------------------------- -- 16.8/17.7 MB 1.7 MB/s eta 0:00:01\n",
      "   -------------------------------------- - 16.9/17.7 MB 1.7 MB/s eta 0:00:01\n",
      "   -------------------------------------- - 16.9/17.7 MB 1.7 MB/s eta 0:00:01\n",
      "   -------------------------------------- - 17.0/17.7 MB 1.6 MB/s eta 0:00:01\n",
      "   -------------------------------------- - 17.1/17.7 MB 1.7 MB/s eta 0:00:01\n",
      "   -------------------------------------- - 17.1/17.7 MB 1.6 MB/s eta 0:00:01\n",
      "   ---------------------------------------  17.2/17.7 MB 1.7 MB/s eta 0:00:01\n",
      "   ---------------------------------------  17.3/17.7 MB 1.6 MB/s eta 0:00:01\n",
      "   ---------------------------------------  17.4/17.7 MB 1.7 MB/s eta 0:00:01\n",
      "   ---------------------------------------  17.5/17.7 MB 1.7 MB/s eta 0:00:01\n",
      "   ---------------------------------------  17.6/17.7 MB 1.7 MB/s eta 0:00:01\n",
      "   ---------------------------------------  17.6/17.7 MB 1.6 MB/s eta 0:00:01\n",
      "   ---------------------------------------  17.7/17.7 MB 1.6 MB/s eta 0:00:01\n",
      "   ---------------------------------------  17.7/17.7 MB 1.6 MB/s eta 0:00:01\n",
      "   ---------------------------------------  17.7/17.7 MB 1.6 MB/s eta 0:00:01\n",
      "   ---------------------------------------  17.7/17.7 MB 1.6 MB/s eta 0:00:01\n",
      "   ---------------------------------------  17.7/17.7 MB 1.6 MB/s eta 0:00:01\n",
      "   ---------------------------------------  17.7/17.7 MB 1.6 MB/s eta 0:00:01\n",
      "   ---------------------------------------  17.7/17.7 MB 1.6 MB/s eta 0:00:01\n",
      "   ---------------------------------------- 17.7/17.7 MB 1.6 MB/s eta 0:00:00\n",
      "Installing collected packages: pulp\n",
      "Successfully installed pulp-2.8.0\n"
     ]
    }
   ],
   "source": [
    "!pip install pulp"
   ]
  },
  {
   "cell_type": "code",
   "execution_count": 3,
   "metadata": {},
   "outputs": [],
   "source": [
    "from pulp import LpProblem, LpMinimize, LpVariable, lpSum\n",
    "#linear programming library "
   ]
  },
  {
   "cell_type": "code",
   "execution_count": 4,
   "metadata": {},
   "outputs": [
    {
     "data": {
      "text/plain": [
       "1"
      ]
     },
     "execution_count": 4,
     "metadata": {},
     "output_type": "execute_result"
    }
   ],
   "source": [
    "diet_problem = LpProblem(\"Diet_Problem\", LpMinimize)\n",
    "\n",
    "# Define output variables\n",
    "x1 = LpVariable(\"Apples\", lowBound=0)\n",
    "x2 = LpVariable(\"Bananas\", lowBound=0)\n",
    "x3 = LpVariable(\"Oranges\", lowBound=0)\n",
    "\n",
    "# Define objective function (minimize cost)\n",
    "diet_problem += 3 * x1 + x2 + 3 * x3, \"Total_Cost\"\n",
    "\n",
    "# Define nutritional constraints\n",
    "diet_problem += 50 * x1 + 120 * x2 + 60 * x3 >= 2000, \"Calories\"\n",
    "diet_problem += 2 * x1 + 3 * x2 + 5 * x3>= 40, \"Vitamin A\"\n",
    "diet_problem += 12 * x1 + x2 + 2 * x3>= 50, \"Vitamin B\"\n",
    "\n",
    "diet_problem.solve()"
   ]
  },
  {
   "cell_type": "code",
   "execution_count": 5,
   "metadata": {},
   "outputs": [
    {
     "name": "stdout",
     "output_type": "stream",
     "text": [
      "Optimal Diet:\n",
      "Apples: 2.88 units\n",
      "Bananas: 15.47 units\n",
      "Oranges: 0.0 units\n",
      "Total Cost: 24.1\n"
     ]
    }
   ],
   "source": [
    "print(\"Optimal Diet:\")\n",
    "print(f\"Apples: {round(x1.value(), 2)} units\")\n",
    "print(f\"Bananas: {round(x2.value(), 2)} units\")\n",
    "print(f\"Oranges: {round(x3.value(), 2)} units\")\n",
    "print(f\"Total Cost: {round(diet_problem.objective.value(), 2)}\")"
   ]
  },
  {
   "cell_type": "code",
   "execution_count": 12,
   "metadata": {},
   "outputs": [],
   "source": [
    "def initialize_table(rows, cols):\n",
    "  return [[0] * cols for _ in range(rows)]"
   ]
  },
  {
   "cell_type": "code",
   "execution_count": 13,
   "metadata": {},
   "outputs": [],
   "source": [
    "def knapsack_dynamic_programming(values, weights, capacity):\n",
    "  n = len(values)\n",
    "  dp = initialize_table(n + 1, capacity + 1)\n",
    "\n",
    "  # Fill the table using dynamic programming\n",
    "  for i in range(1, n + 1):\n",
    "    for w in range(capacity + 1):\n",
    "      # Include the current item if it fits in the knapsack\n",
    "      if weights[i - 1] <= w:\n",
    "        dp[i][w] = max(dp[i - 1][w], \\\n",
    "        values[i - 1] + dp[i - 1][w - weights[i - 1]])\n",
    "      else:\n",
    "        dp[i][w] = dp[i - 1][w]\n",
    "\n",
    "  selected_items = traceback(dp, values, weights, capacity)\n",
    "\n",
    "  return dp[n][capacity], selected_items"
   ]
  },
  {
   "cell_type": "code",
   "execution_count": 14,
   "metadata": {},
   "outputs": [],
   "source": [
    "def traceback(dp, values, weights, capacity):\n",
    "  selected_items = []\n",
    "  i, w = len(dp) - 1, capacity\n",
    "\n",
    "  while i > 0 and w > 0:\n",
    "    if dp[i][w] != dp[i - 1][w]:\n",
    "      selected_items.append(i - 1)\n",
    "      w -= weights[i - 1]\n",
    "      i -= 1\n",
    "\n",
    "  selected_items.reverse()\n",
    "  return selected_items"
   ]
  },
  {
   "cell_type": "code",
   "execution_count": 15,
   "metadata": {},
   "outputs": [
    {
     "name": "stdout",
     "output_type": "stream",
     "text": [
      "Maximum value: 3500\n",
      "Selected items: [1, 2]\n"
     ]
    }
   ],
   "source": [
    "values = [3000, 2000, 1500]\n",
    "weights = [4, 3, 1]\n",
    "capacity = 4\n",
    "\n",
    "max_value, selected_items = \\\n",
    "knapsack_dynamic_programming(values, weights, capacity)\n",
    "\n",
    "print(\"Maximum value:\", max_value)\n",
    "print(\"Selected items:\", selected_items)"
   ]
  },
  {
   "cell_type": "code",
   "execution_count": 16,
   "metadata": {},
   "outputs": [
    {
     "ename": "NameError",
     "evalue": "name 'dp' is not defined",
     "output_type": "error",
     "traceback": [
      "\u001b[1;31m---------------------------------------------------------------------------\u001b[0m",
      "\u001b[1;31mNameError\u001b[0m                                 Traceback (most recent call last)",
      "Cell \u001b[1;32mIn[16], line 1\u001b[0m\n\u001b[1;32m----> 1\u001b[0m \u001b[43mdp\u001b[49m\n",
      "\u001b[1;31mNameError\u001b[0m: name 'dp' is not defined"
     ]
    }
   ],
   "source": [
    "dp"
   ]
  }
 ],
 "metadata": {
  "kernelspec": {
   "display_name": "adsenv",
   "language": "python",
   "name": "python3"
  },
  "language_info": {
   "codemirror_mode": {
    "name": "ipython",
    "version": 3
   },
   "file_extension": ".py",
   "mimetype": "text/x-python",
   "name": "python",
   "nbconvert_exporter": "python",
   "pygments_lexer": "ipython3",
   "version": "3.11.8"
  }
 },
 "nbformat": 4,
 "nbformat_minor": 2
}
