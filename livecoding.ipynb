{
 "cells": [
  {
   "cell_type": "code",
   "execution_count": 2,
   "metadata": {},
   "outputs": [
    {
     "data": {
      "text/plain": [
       "['__add__',\n",
       " '__class__',\n",
       " '__class_getitem__',\n",
       " '__contains__',\n",
       " '__delattr__',\n",
       " '__delitem__',\n",
       " '__dir__',\n",
       " '__doc__',\n",
       " '__eq__',\n",
       " '__format__',\n",
       " '__ge__',\n",
       " '__getattribute__',\n",
       " '__getitem__',\n",
       " '__getstate__',\n",
       " '__gt__',\n",
       " '__hash__',\n",
       " '__iadd__',\n",
       " '__imul__',\n",
       " '__init__',\n",
       " '__init_subclass__',\n",
       " '__iter__',\n",
       " '__le__',\n",
       " '__len__',\n",
       " '__lt__',\n",
       " '__mul__',\n",
       " '__ne__',\n",
       " '__new__',\n",
       " '__reduce__',\n",
       " '__reduce_ex__',\n",
       " '__repr__',\n",
       " '__reversed__',\n",
       " '__rmul__',\n",
       " '__setattr__',\n",
       " '__setitem__',\n",
       " '__sizeof__',\n",
       " '__str__',\n",
       " '__subclasshook__',\n",
       " 'append',\n",
       " 'clear',\n",
       " 'copy',\n",
       " 'count',\n",
       " 'extend',\n",
       " 'index',\n",
       " 'insert',\n",
       " 'pop',\n",
       " 'remove',\n",
       " 'reverse',\n",
       " 'sort']"
      ]
     },
     "execution_count": 2,
     "metadata": {},
     "output_type": "execute_result"
    }
   ],
   "source": [
    "browsing_session = []\n",
    "dir(browsing_session)"
   ]
  },
  {
   "cell_type": "code",
   "execution_count": null,
   "metadata": {},
   "outputs": [],
   "source": [
    "# 2^n\n",
    "# --->\n",
    "# <---\n",
    "# log base (2) n"
   ]
  },
  {
   "cell_type": "code",
   "execution_count": 6,
   "metadata": {},
   "outputs": [],
   "source": [
    "def countdown(i):\n",
    "    print(i)\n",
    "    if i<=0:\n",
    "        return\n",
    "    countdown(i-1)\n"
   ]
  },
  {
   "cell_type": "code",
   "execution_count": 7,
   "metadata": {},
   "outputs": [
    {
     "name": "stdout",
     "output_type": "stream",
     "text": [
      "20\n",
      "19\n",
      "18\n",
      "17\n",
      "16\n",
      "15\n",
      "14\n",
      "13\n",
      "12\n",
      "11\n",
      "10\n",
      "9\n",
      "8\n",
      "7\n",
      "6\n",
      "5\n",
      "4\n",
      "3\n",
      "2\n",
      "1\n",
      "0\n"
     ]
    }
   ],
   "source": [
    "countdown(20)"
   ]
  },
  {
   "cell_type": "code",
   "execution_count": 15,
   "metadata": {},
   "outputs": [],
   "source": [
    "def factorial(x):\n",
    "    if x == 1:\n",
    "        return 1\n",
    "    else:\n",
    "        return x * factorial(x -1)"
   ]
  },
  {
   "cell_type": "code",
   "execution_count": 16,
   "metadata": {},
   "outputs": [
    {
     "data": {
      "text/plain": [
       "120"
      ]
     },
     "execution_count": 16,
     "metadata": {},
     "output_type": "execute_result"
    }
   ],
   "source": [
    "factorial(5)"
   ]
  },
  {
   "cell_type": "code",
   "execution_count": 17,
   "metadata": {},
   "outputs": [],
   "source": [
    "def fib(n):\n",
    "    if n<=1:\n",
    "        return n\n",
    "    else:\n",
    "        return fib(n-1) + fib(n-2)"
   ]
  },
  {
   "cell_type": "code",
   "execution_count": 18,
   "metadata": {},
   "outputs": [],
   "source": [
    "def recursive(n):\n",
    "  for i in range(n):\n",
    "    # Something happens\n",
    "    i += 2\n",
    "  if n <= 0:\n",
    "    return 1\n",
    "  else:\n",
    "    return 1 + recursive(n - 3)"
   ]
  },
  {
   "cell_type": "code",
   "execution_count": null,
   "metadata": {},
   "outputs": [],
   "source": [
    "# Define the base case (The case where the problem is trivial to solve)"
   ]
  },
  {
   "cell_type": "code",
   "execution_count": 21,
   "metadata": {},
   "outputs": [],
   "source": [
    "def find_all_combinations_recursive(lst, x, combinations, result):\n",
    "    if x == 0:\n",
    "        result.append(combinations)\n",
    "        return\n",
    "    if x < 0 or len(lst) == 0:\n",
    "        return\n",
    "    \n",
    "    find_all_combinations_recursive(lst[1:], x, combinations, result) # In this case , lst[0] is not in the solution\n",
    "    find_all_combinations_recursive(lst[1:], x - lst[0], combinations + [lst[0]], result) # In this case lst[0] is in the solution"
   ]
  },
  {
   "cell_type": "code",
   "execution_count": 22,
   "metadata": {},
   "outputs": [],
   "source": [
    "def find_all_combinations(lst,x):\n",
    "    result = []\n",
    "    find_all_combinations_recursive(lst, x, [], result)\n",
    "    return result"
   ]
  },
  {
   "cell_type": "code",
   "execution_count": 24,
   "metadata": {},
   "outputs": [
    {
     "data": {
      "text/plain": [
       "[[6], [1, 5]]"
      ]
     },
     "execution_count": 24,
     "metadata": {},
     "output_type": "execute_result"
    }
   ],
   "source": [
    "# INPUT\n",
    "lst = [1,2,5,6]\n",
    "x = 6\n",
    "\n",
    "find_all_combinations(lst,x)\n",
    "# OUTPUT\n",
    "# [1,5]\n",
    "# [6]"
   ]
  },
  {
   "cell_type": "code",
   "execution_count": null,
   "metadata": {},
   "outputs": [],
   "source": [
    "# lst =  [1,2,5,6]\n",
    "# x = 6\n",
    "\n",
    "# Two options in the solution\n",
    "# Either 1 is part of the solution or 1 is not part of the solution\n",
    "\n",
    "# solve the problem if 1 is part of the solution\n",
    "# Simplifying the problem\n",
    "# We remove 1 from the lst\n",
    "# We subtract 1 from x\n",
    "# We add 1 to our \"working solution\" called combinations\n",
    "# lst = [2,5,6]\n",
    "# x = 5\n",
    "# combinations = [1]\n",
    "\n",
    "# solve the problem if 1 is not a part of  the solution\n",
    "# Simplify the problem\n",
    "# We remove 1 from "
   ]
  },
  {
   "cell_type": "code",
   "execution_count": 5,
   "metadata": {},
   "outputs": [],
   "source": [
    "class Node:\n",
    "  \"\"\"Tree class\n",
    "  \"\"\"\n",
    "  def __init__(self, key):\n",
    "    self.left = None\n",
    "    self.right = None\n",
    "    self.val = key\n",
    "    \n",
    "def print_inorder(root):\n",
    "  if root:\n",
    "    print_inorder(root.left)\n",
    "    print(root.val, end = \" \")\n",
    "    print_inorder(root.right)\n",
    "\n",
    "def print_preorder(root):\n",
    "  if root:\n",
    "    print(root.val, end = \" \")\n",
    "    print_preorder(root.left)\n",
    "    print_preorder(root.right)\n",
    "\n",
    "def print_postorder(root):\n",
    "  if root:\n",
    "    print_postorder(root.left)\n",
    "    print_postorder(root.right)\n",
    "    print(root.val, end = \" \")"
   ]
  },
  {
   "cell_type": "code",
   "execution_count": 6,
   "metadata": {},
   "outputs": [
    {
     "name": "stdout",
     "output_type": "stream",
     "text": [
      "4 2 5 1 6 3 "
     ]
    }
   ],
   "source": [
    "root = Node(1)\n",
    "root.left = Node(2)\n",
    "root.right = Node(3)\n",
    "root.left.left = Node(4)\n",
    "root.left.right = Node(5)\n",
    "root.right.left = Node(6)\n",
    "print_inorder(root)"
   ]
  },
  {
   "cell_type": "code",
   "execution_count": 7,
   "metadata": {},
   "outputs": [
    {
     "name": "stdout",
     "output_type": "stream",
     "text": [
      "1 2 4 5 3 6 "
     ]
    }
   ],
   "source": [
    "print_preorder(root)"
   ]
  },
  {
   "cell_type": "code",
   "execution_count": 8,
   "metadata": {},
   "outputs": [
    {
     "name": "stdout",
     "output_type": "stream",
     "text": [
      "4 5 2 6 3 1 "
     ]
    }
   ],
   "source": [
    "print_postorder(root)"
   ]
  },
  {
   "cell_type": "code",
   "execution_count": 9,
   "metadata": {},
   "outputs": [],
   "source": [
    "bst = Node(100)"
   ]
  },
  {
   "cell_type": "code",
   "execution_count": 10,
   "metadata": {},
   "outputs": [],
   "source": [
    "def insert_into_bst(root, value):\n",
    "    if root is None:\n",
    "        return Node(value)\n",
    "    else:\n",
    "        if root.val > value:\n",
    "            root.left = insert_into_bst(root.left, value)\n",
    "            return root\n",
    "        else:\n",
    "            root.right = insert_into_bst(root.right, value)\n",
    "            return root"
   ]
  },
  {
   "cell_type": "code",
   "execution_count": 15,
   "metadata": {},
   "outputs": [
    {
     "data": {
      "text/plain": [
       "<__main__.Node at 0x27843c04a50>"
      ]
     },
     "execution_count": 15,
     "metadata": {},
     "output_type": "execute_result"
    }
   ],
   "source": [
    "insert_into_bst(bst, 5)"
   ]
  },
  {
   "cell_type": "code",
   "execution_count": 21,
   "metadata": {},
   "outputs": [
    {
     "data": {
      "text/plain": [
       "5"
      ]
     },
     "execution_count": 21,
     "metadata": {},
     "output_type": "execute_result"
    }
   ],
   "source": [
    "bst.left.val"
   ]
  },
  {
   "cell_type": "code",
   "execution_count": 11,
   "metadata": {},
   "outputs": [
    {
     "data": {
      "text/plain": [
       "<__main__.Node at 0x1e6dc34edd0>"
      ]
     },
     "execution_count": 11,
     "metadata": {},
     "output_type": "execute_result"
    }
   ],
   "source": [
    "insert_into_bst(bst, 20)\n",
    "insert_into_bst(bst, 10)\n",
    "insert_into_bst(bst, 30)\n",
    "insert_into_bst(bst, 500)"
   ]
  },
  {
   "cell_type": "code",
   "execution_count": 12,
   "metadata": {},
   "outputs": [
    {
     "name": "stdout",
     "output_type": "stream",
     "text": [
      "100\n",
      "20\n",
      "10\n",
      "30\n",
      "500\n"
     ]
    }
   ],
   "source": [
    "print(bst.val) # Expect 100\n",
    "print(bst.left.val) # Expect 20\n",
    "print(bst.left.left.val) # Expect 10\n",
    "print(bst.left.right.val) # Expect 30\n",
    "print(bst.right.val) # Expect 500"
   ]
  },
  {
   "cell_type": "code",
   "execution_count": 13,
   "metadata": {},
   "outputs": [],
   "source": [
    "from collections import deque\n",
    "\n",
    "class Graph:\n",
    "  def __init__(self):\n",
    "    self.graph = {}\n",
    "\n",
    "  def add_edge(self, vertex, neighbors):\n",
    "    self.graph[vertex] = neighbors"
   ]
  },
  {
   "cell_type": "code",
   "execution_count": 14,
   "metadata": {},
   "outputs": [],
   "source": [
    "def bfs(graph, start):\n",
    "  visited = set()\n",
    "  queue = deque([start])\n",
    "\n",
    "  while queue:\n",
    "    current_vertex = queue.popleft()\n",
    "\n",
    "    if current_vertex not in visited:\n",
    "      # Process the current vertex\n",
    "      print(current_vertex, end=' ')\n",
    "      visited.add(current_vertex)\n",
    "\n",
    "      # Enqueue unvisited neighbors\n",
    "      for neighbor in graph.graph.get(current_vertex, []):\n",
    "        if neighbor not in visited:\n",
    "          queue.append(neighbor)"
   ]
  },
  {
   "cell_type": "code",
   "execution_count": 15,
   "metadata": {},
   "outputs": [],
   "source": [
    "# Represent graph from above\n",
    "ex_graph = Graph()\n",
    "ex_graph.add_edge(1, [3, 6])\n",
    "ex_graph.add_edge(3, [10, 6])\n",
    "ex_graph.add_edge(6, [3, 7])\n",
    "ex_graph.add_edge(10, [3, 7])\n",
    "ex_graph.add_edge(7, [10, 6])"
   ]
  },
  {
   "cell_type": "code",
   "execution_count": 16,
   "metadata": {},
   "outputs": [
    {
     "name": "stdout",
     "output_type": "stream",
     "text": [
      "1 3 6 10 7 "
     ]
    }
   ],
   "source": [
    "# Perform BFS starting from vertex 1\n",
    "bfs(ex_graph, 1)"
   ]
  },
  {
   "cell_type": "code",
   "execution_count": null,
   "metadata": {},
   "outputs": [],
   "source": [
    "1 - 3 - 10\n",
    "|   |    |\n",
    "6 - J    |\n",
    "|        |\n",
    "7 -------J"
   ]
  },
  {
   "cell_type": "code",
   "execution_count": 18,
   "metadata": {},
   "outputs": [],
   "source": [
    "def recursive_preorder_traversal(graph, start, visited=None):\n",
    "  if visited is None:\n",
    "    visited = set()\n",
    "\n",
    "  # Process the current vertex\n",
    "  print(start, end=' ')\n",
    "  visited.add(start)\n",
    "\n",
    "    # Recursive traversal of neighbors\n",
    "  for neighbor in graph.graph.get(start, []):\n",
    "    if neighbor not in visited:\n",
    "      recursive_preorder_traversal(graph, neighbor, visited)"
   ]
  },
  {
   "cell_type": "code",
   "execution_count": 19,
   "metadata": {},
   "outputs": [
    {
     "name": "stdout",
     "output_type": "stream",
     "text": [
      "1 3 10 7 6 "
     ]
    }
   ],
   "source": [
    "recursive_preorder_traversal(ex_graph, 1)"
   ]
  }
 ],
 "metadata": {
  "kernelspec": {
   "display_name": "adsenv",
   "language": "python",
   "name": "python3"
  },
  "language_info": {
   "codemirror_mode": {
    "name": "ipython",
    "version": 3
   },
   "file_extension": ".py",
   "mimetype": "text/x-python",
   "name": "python",
   "nbconvert_exporter": "python",
   "pygments_lexer": "ipython3",
   "version": "3.11.8"
  }
 },
 "nbformat": 4,
 "nbformat_minor": 2
}
